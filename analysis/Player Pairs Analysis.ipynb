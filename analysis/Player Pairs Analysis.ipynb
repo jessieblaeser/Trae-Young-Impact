{
 "cells": [
  {
   "cell_type": "markdown",
   "id": "5bf9103f",
   "metadata": {},
   "source": [
    "# "
   ]
  },
  {
   "cell_type": "code",
   "execution_count": 1,
   "id": "1b4daf40",
   "metadata": {},
   "outputs": [
    {
     "name": "stderr",
     "output_type": "stream",
     "text": [
      "/Users/jessieblaeser/.pyenv/versions/3.10.0/lib/python3.10/site-packages/pandas/compat/__init__.py:124: UserWarning: Could not import the lzma module. Your installed Python is incomplete. Attempting to use lzma compression will result in a RuntimeError.\n",
      "  warnings.warn(msg)\n"
     ]
    }
   ],
   "source": [
    "import pandas as pd\n",
    "import numpy as np\n",
    "import os"
   ]
  },
  {
   "cell_type": "code",
   "execution_count": 3,
   "id": "300e1ee9",
   "metadata": {},
   "outputs": [
    {
     "data": {
      "text/html": [
       "<div>\n",
       "<style scoped>\n",
       "    .dataframe tbody tr th:only-of-type {\n",
       "        vertical-align: middle;\n",
       "    }\n",
       "\n",
       "    .dataframe tbody tr th {\n",
       "        vertical-align: top;\n",
       "    }\n",
       "\n",
       "    .dataframe thead th {\n",
       "        text-align: right;\n",
       "    }\n",
       "</style>\n",
       "<table border=\"1\" class=\"dataframe\">\n",
       "  <thead>\n",
       "    <tr style=\"text-align: right;\">\n",
       "      <th></th>\n",
       "      <th>group_name</th>\n",
       "      <th>pts</th>\n",
       "      <th>ast</th>\n",
       "      <th>reb</th>\n",
       "      <th>player1</th>\n",
       "      <th>player2</th>\n",
       "    </tr>\n",
       "  </thead>\n",
       "  <tbody>\n",
       "    <tr>\n",
       "      <th>0</th>\n",
       "      <td>J. Collins - T. Young</td>\n",
       "      <td>66.8</td>\n",
       "      <td>15.1</td>\n",
       "      <td>25.8</td>\n",
       "      <td>J. Collins</td>\n",
       "      <td>T. Young</td>\n",
       "    </tr>\n",
       "    <tr>\n",
       "      <th>1</th>\n",
       "      <td>T. Young - D. Hunter</td>\n",
       "      <td>64.3</td>\n",
       "      <td>14.0</td>\n",
       "      <td>23.9</td>\n",
       "      <td>T. Young</td>\n",
       "      <td>D. Hunter</td>\n",
       "    </tr>\n",
       "    <tr>\n",
       "      <th>2</th>\n",
       "      <td>C. Capela - T. Young</td>\n",
       "      <td>61.1</td>\n",
       "      <td>13.3</td>\n",
       "      <td>23.9</td>\n",
       "      <td>C. Capela</td>\n",
       "      <td>T. Young</td>\n",
       "    </tr>\n",
       "    <tr>\n",
       "      <th>3</th>\n",
       "      <td>C. Capela - W. Iwundu</td>\n",
       "      <td>65.0</td>\n",
       "      <td>12.0</td>\n",
       "      <td>23.0</td>\n",
       "      <td>C. Capela</td>\n",
       "      <td>W. Iwundu</td>\n",
       "    </tr>\n",
       "    <tr>\n",
       "      <th>4</th>\n",
       "      <td>B. Bogdanovic - C. Brown Jr.</td>\n",
       "      <td>53.0</td>\n",
       "      <td>11.0</td>\n",
       "      <td>26.0</td>\n",
       "      <td>B. Bogdanovic</td>\n",
       "      <td>C. Brown Jr.</td>\n",
       "    </tr>\n",
       "  </tbody>\n",
       "</table>\n",
       "</div>"
      ],
      "text/plain": [
       "                     group_name   pts   ast   reb        player1       player2\n",
       "0         J. Collins - T. Young  66.8  15.1  25.8     J. Collins      T. Young\n",
       "1          T. Young - D. Hunter  64.3  14.0  23.9       T. Young     D. Hunter\n",
       "2          C. Capela - T. Young  61.1  13.3  23.9      C. Capela      T. Young\n",
       "3         C. Capela - W. Iwundu  65.0  12.0  23.0      C. Capela     W. Iwundu\n",
       "4  B. Bogdanovic - C. Brown Jr.  53.0  11.0  26.0  B. Bogdanovic  C. Brown Jr."
      ]
     },
     "execution_count": 3,
     "metadata": {},
     "output_type": "execute_result"
    }
   ],
   "source": [
    "df = pd.read_csv(\"../data/processed/top_hawks_2122.csv\")\n",
    "\n",
    "pd.set_option('display.max_columns', None)\n",
    "pd.set_option('display.max_rows', None)\n",
    "\n",
    "df.head()"
   ]
  },
  {
   "cell_type": "code",
   "execution_count": 157,
   "id": "cc21c3de",
   "metadata": {},
   "outputs": [
    {
     "data": {
      "text/plain": [
       "T. Young         22\n",
       "B. Bogdanovic    22\n",
       "C. Capela        20\n",
       "J. Collins       19\n",
       "O. Okongwu       18\n",
       "K. Huerter       17\n",
       "D. Gallinari     15\n",
       "D. Hunter        15\n",
       "Name: player1, dtype: int64"
      ]
     },
     "execution_count": 157,
     "metadata": {},
     "output_type": "execute_result"
    }
   ],
   "source": [
    "df.player1.value_counts()"
   ]
  },
  {
   "cell_type": "markdown",
   "id": "2f3735b6",
   "metadata": {},
   "source": [
    "### Adding Boolean for lineups that have Young and lines ups that do not\n",
    "From here we will show base visualizations and data on points, assists and rebounds for line ups that include Young and lineups that do not."
   ]
  },
  {
   "cell_type": "code",
   "execution_count": 4,
   "id": "b88c82df",
   "metadata": {},
   "outputs": [
    {
     "data": {
      "text/plain": [
       "0    119\n",
       "1     29\n",
       "Name: trae, dtype: int64"
      ]
     },
     "execution_count": 4,
     "metadata": {},
     "output_type": "execute_result"
    }
   ],
   "source": [
    "df['trae'] = (df.group_name.str.contains('T. Young', na=False) == True) \n",
    "df.head()\n",
    "#df['trae'].value_counts()\n",
    "df['trae'] = df['trae'].astype(int)\n",
    "df['trae'].value_counts()"
   ]
  },
  {
   "cell_type": "code",
   "execution_count": 36,
   "id": "bfe3fc00",
   "metadata": {},
   "outputs": [
    {
     "data": {
      "text/plain": [
       "trae\n",
       "0         NaN\n",
       "1    0.530453\n",
       "Name: ast, dtype: float64"
      ]
     },
     "execution_count": 36,
     "metadata": {},
     "output_type": "execute_result"
    }
   ],
   "source": [
    "x = df[df['trae'] == 0].ast.mean()\n",
    "#Among this group, non-Young pairings average 5.11 assists/game\n",
    "y = df[df['trae'] == 1].ast.mean()\n",
    "#Among this group, Young pairings average 7.83 assists/game\n",
    "df.groupby(by='trae').ast.mean().pct_change()\n",
    "#This means that when players are paired with Young, as opposed to other players, they execute 53% more rebounds per game. "
   ]
  },
  {
   "cell_type": "code",
   "execution_count": 35,
   "id": "7af0b53f",
   "metadata": {},
   "outputs": [
    {
     "data": {
      "text/plain": [
       "trae\n",
       "0         NaN\n",
       "1    0.555284\n",
       "Name: pts, dtype: float64"
      ]
     },
     "execution_count": 35,
     "metadata": {},
     "output_type": "execute_result"
    }
   ],
   "source": [
    "df[df['trae'] == 0].pts.mean()\n",
    "#Among this group, non-Young pairings average 23.94 points/game\n",
    "df[df['trae'] == 1].pts.mean()\n",
    "#Among this group, Young pairings average 37.24 points/game \n",
    "df.groupby(by='trae').pts.mean().pct_change()\n",
    "#This means that when players are paired with Young, as opposed to other players, they execute 55.5% more points per game. "
   ]
  },
  {
   "cell_type": "code",
   "execution_count": 11,
   "id": "e804ae0c",
   "metadata": {},
   "outputs": [
    {
     "data": {
      "text/plain": [
       "13.720689655172414"
      ]
     },
     "execution_count": 11,
     "metadata": {},
     "output_type": "execute_result"
    }
   ],
   "source": [
    "df[df['trae'] == 0].reb.mean()\n",
    "#Among this group, non-Young pairings average 9.46 rebounds/game\n",
    "df[df['trae'] == 1].reb.mean()\n",
    "#Among this group, Young pairings average 13.72 rebounds/game \n",
    "df.groupby(by='trae').reb.mean().pct_change()\n",
    "#This means that when players are paired with Young, as opposed to other players, they execute 44.9% more rebounds per game. "
   ]
  },
  {
   "cell_type": "code",
   "execution_count": 34,
   "id": "f0e25d93",
   "metadata": {},
   "outputs": [
    {
     "data": {
      "text/plain": [
       "trae\n",
       "0         NaN\n",
       "1    0.449798\n",
       "Name: reb, dtype: float64"
      ]
     },
     "execution_count": 34,
     "metadata": {},
     "output_type": "execute_result"
    }
   ],
   "source": [
    "df.groupby(by='trae').reb.mean().pct_change()"
   ]
  },
  {
   "cell_type": "markdown",
   "id": "0744128e",
   "metadata": {},
   "source": [
    "### Now lets visualize all these numbers"
   ]
  },
  {
   "cell_type": "code",
   "execution_count": 37,
   "id": "63ff7761",
   "metadata": {},
   "outputs": [],
   "source": [
    "copied = df.copy()"
   ]
  },
  {
   "cell_type": "code",
   "execution_count": 38,
   "id": "a0f22a46",
   "metadata": {},
   "outputs": [
    {
     "name": "stderr",
     "output_type": "stream",
     "text": [
      "/var/folders/qx/nkh2pq6x3_193757ddxvrcf40000gp/T/ipykernel_88927/1715739520.py:2: FutureWarning: In a future version of pandas all arguments of DataFrame.drop except for the argument 'labels' will be keyword-only\n"
     ]
    },
    {
     "data": {
      "text/html": [
       "<div>\n",
       "<style scoped>\n",
       "    .dataframe tbody tr th:only-of-type {\n",
       "        vertical-align: middle;\n",
       "    }\n",
       "\n",
       "    .dataframe tbody tr th {\n",
       "        vertical-align: top;\n",
       "    }\n",
       "\n",
       "    .dataframe thead th {\n",
       "        text-align: right;\n",
       "    }\n",
       "</style>\n",
       "<table border=\"1\" class=\"dataframe\">\n",
       "  <thead>\n",
       "    <tr style=\"text-align: right;\">\n",
       "      <th></th>\n",
       "      <th>pts</th>\n",
       "      <th>ast</th>\n",
       "      <th>reb</th>\n",
       "      <th>trae</th>\n",
       "    </tr>\n",
       "  </thead>\n",
       "  <tbody>\n",
       "    <tr>\n",
       "      <th>0</th>\n",
       "      <td>66.8</td>\n",
       "      <td>15.1</td>\n",
       "      <td>25.8</td>\n",
       "      <td>1</td>\n",
       "    </tr>\n",
       "    <tr>\n",
       "      <th>1</th>\n",
       "      <td>64.3</td>\n",
       "      <td>14.0</td>\n",
       "      <td>23.9</td>\n",
       "      <td>1</td>\n",
       "    </tr>\n",
       "    <tr>\n",
       "      <th>2</th>\n",
       "      <td>61.1</td>\n",
       "      <td>13.3</td>\n",
       "      <td>23.9</td>\n",
       "      <td>1</td>\n",
       "    </tr>\n",
       "    <tr>\n",
       "      <th>3</th>\n",
       "      <td>65.0</td>\n",
       "      <td>12.0</td>\n",
       "      <td>23.0</td>\n",
       "      <td>0</td>\n",
       "    </tr>\n",
       "    <tr>\n",
       "      <th>4</th>\n",
       "      <td>53.0</td>\n",
       "      <td>11.0</td>\n",
       "      <td>26.0</td>\n",
       "      <td>0</td>\n",
       "    </tr>\n",
       "  </tbody>\n",
       "</table>\n",
       "</div>"
      ],
      "text/plain": [
       "    pts   ast   reb  trae\n",
       "0  66.8  15.1  25.8     1\n",
       "1  64.3  14.0  23.9     1\n",
       "2  61.1  13.3  23.9     1\n",
       "3  65.0  12.0  23.0     0\n",
       "4  53.0  11.0  26.0     0"
      ]
     },
     "execution_count": 38,
     "metadata": {},
     "output_type": "execute_result"
    }
   ],
   "source": [
    "copied.head()\n",
    "copied = copied.drop(['group_name', 'player1', 'player2'],1)\n",
    "copied.head()"
   ]
  },
  {
   "cell_type": "markdown",
   "id": "119a103d",
   "metadata": {},
   "source": [
    "### Here I am setting the stage for making a grouped bar chart in plotnine, including: \n",
    "* Using pd.melt to move 'pts' 'ast' and 'reb' to a single column, rather than three separate ones\n",
    "* Replacing the new column name ('Variable') with an empty string so that I don't have to worry about renaming my key later\n",
    "* Renaming the values in the new column so that they read clearly in the final key"
   ]
  },
  {
   "cell_type": "code",
   "execution_count": 109,
   "id": "23832783",
   "metadata": {},
   "outputs": [
    {
     "data": {
      "text/html": [
       "<div>\n",
       "<style scoped>\n",
       "    .dataframe tbody tr th:only-of-type {\n",
       "        vertical-align: middle;\n",
       "    }\n",
       "\n",
       "    .dataframe tbody tr th {\n",
       "        vertical-align: top;\n",
       "    }\n",
       "\n",
       "    .dataframe thead th {\n",
       "        text-align: right;\n",
       "    }\n",
       "</style>\n",
       "<table border=\"1\" class=\"dataframe\">\n",
       "  <thead>\n",
       "    <tr style=\"text-align: right;\">\n",
       "      <th></th>\n",
       "      <th>trae</th>\n",
       "      <th>variable</th>\n",
       "      <th>value</th>\n",
       "    </tr>\n",
       "  </thead>\n",
       "  <tbody>\n",
       "    <tr>\n",
       "      <th>0</th>\n",
       "      <td>1</td>\n",
       "      <td>pts</td>\n",
       "      <td>66.8</td>\n",
       "    </tr>\n",
       "    <tr>\n",
       "      <th>1</th>\n",
       "      <td>1</td>\n",
       "      <td>pts</td>\n",
       "      <td>64.3</td>\n",
       "    </tr>\n",
       "    <tr>\n",
       "      <th>2</th>\n",
       "      <td>1</td>\n",
       "      <td>pts</td>\n",
       "      <td>61.1</td>\n",
       "    </tr>\n",
       "    <tr>\n",
       "      <th>3</th>\n",
       "      <td>0</td>\n",
       "      <td>pts</td>\n",
       "      <td>65.0</td>\n",
       "    </tr>\n",
       "    <tr>\n",
       "      <th>4</th>\n",
       "      <td>0</td>\n",
       "      <td>pts</td>\n",
       "      <td>53.0</td>\n",
       "    </tr>\n",
       "  </tbody>\n",
       "</table>\n",
       "</div>"
      ],
      "text/plain": [
       "   trae variable  value\n",
       "0     1      pts   66.8\n",
       "1     1      pts   64.3\n",
       "2     1      pts   61.1\n",
       "3     0      pts   65.0\n",
       "4     0      pts   53.0"
      ]
     },
     "execution_count": 109,
     "metadata": {},
     "output_type": "execute_result"
    }
   ],
   "source": [
    "#top_players\n",
    "# Name is id_vars and Course is value_vars\n",
    "#pd.melt(df, id_vars =['Name'], value_vars =['Course'])\n",
    "melted = pd.melt(copied, id_vars=['trae'], value_vars=['pts', 'ast', 'reb'])\n",
    "melted.head()"
   ]
  },
  {
   "cell_type": "code",
   "execution_count": 110,
   "id": "4d94fb9c",
   "metadata": {},
   "outputs": [],
   "source": [
    "melted.rename(columns={'variable': 'stat'}, inplace=True) \n",
    "#df.rename(columns={'oldName1': 'newName1', 'oldName2': 'newName2'}, inplace=True)"
   ]
  },
  {
   "cell_type": "code",
   "execution_count": 111,
   "id": "46b23fc2",
   "metadata": {},
   "outputs": [],
   "source": [
    "#df[\"column1\"].replace({\"a\": \"x\", \"b\": \"y\"}, inplace=True)\n",
    "melted['stat'].replace({\n",
    "    'pts': 'Points',\n",
    "    'ast': 'Assists',\n",
    "    'reb': 'Rebounds'}, inplace=True)"
   ]
  },
  {
   "cell_type": "code",
   "execution_count": 112,
   "id": "ff232ee9",
   "metadata": {},
   "outputs": [
    {
     "data": {
      "text/html": [
       "<div>\n",
       "<style scoped>\n",
       "    .dataframe tbody tr th:only-of-type {\n",
       "        vertical-align: middle;\n",
       "    }\n",
       "\n",
       "    .dataframe tbody tr th {\n",
       "        vertical-align: top;\n",
       "    }\n",
       "\n",
       "    .dataframe thead th {\n",
       "        text-align: right;\n",
       "    }\n",
       "</style>\n",
       "<table border=\"1\" class=\"dataframe\">\n",
       "  <thead>\n",
       "    <tr style=\"text-align: right;\">\n",
       "      <th></th>\n",
       "      <th>trae</th>\n",
       "      <th>stat</th>\n",
       "      <th>value</th>\n",
       "    </tr>\n",
       "  </thead>\n",
       "  <tbody>\n",
       "    <tr>\n",
       "      <th>0</th>\n",
       "      <td>1</td>\n",
       "      <td>Points</td>\n",
       "      <td>66.8</td>\n",
       "    </tr>\n",
       "    <tr>\n",
       "      <th>1</th>\n",
       "      <td>1</td>\n",
       "      <td>Points</td>\n",
       "      <td>64.3</td>\n",
       "    </tr>\n",
       "    <tr>\n",
       "      <th>2</th>\n",
       "      <td>1</td>\n",
       "      <td>Points</td>\n",
       "      <td>61.1</td>\n",
       "    </tr>\n",
       "    <tr>\n",
       "      <th>3</th>\n",
       "      <td>0</td>\n",
       "      <td>Points</td>\n",
       "      <td>65.0</td>\n",
       "    </tr>\n",
       "    <tr>\n",
       "      <th>4</th>\n",
       "      <td>0</td>\n",
       "      <td>Points</td>\n",
       "      <td>53.0</td>\n",
       "    </tr>\n",
       "  </tbody>\n",
       "</table>\n",
       "</div>"
      ],
      "text/plain": [
       "   trae    stat  value\n",
       "0     1  Points   66.8\n",
       "1     1  Points   64.3\n",
       "2     1  Points   61.1\n",
       "3     0  Points   65.0\n",
       "4     0  Points   53.0"
      ]
     },
     "execution_count": 112,
     "metadata": {},
     "output_type": "execute_result"
    }
   ],
   "source": [
    "melted.head()"
   ]
  },
  {
   "cell_type": "code",
   "execution_count": 113,
   "id": "5c1d20eb",
   "metadata": {},
   "outputs": [],
   "source": [
    "melted['trae'].replace({\n",
    "    0: 'Without Young',\n",
    "    1: 'With Young'}, inplace=True)"
   ]
  },
  {
   "cell_type": "code",
   "execution_count": 114,
   "id": "2afff5a8",
   "metadata": {},
   "outputs": [
    {
     "data": {
      "text/html": [
       "<div>\n",
       "<style scoped>\n",
       "    .dataframe tbody tr th:only-of-type {\n",
       "        vertical-align: middle;\n",
       "    }\n",
       "\n",
       "    .dataframe tbody tr th {\n",
       "        vertical-align: top;\n",
       "    }\n",
       "\n",
       "    .dataframe thead th {\n",
       "        text-align: right;\n",
       "    }\n",
       "</style>\n",
       "<table border=\"1\" class=\"dataframe\">\n",
       "  <thead>\n",
       "    <tr style=\"text-align: right;\">\n",
       "      <th></th>\n",
       "      <th>trae</th>\n",
       "      <th>stat</th>\n",
       "      <th>value</th>\n",
       "    </tr>\n",
       "  </thead>\n",
       "  <tbody>\n",
       "    <tr>\n",
       "      <th>0</th>\n",
       "      <td>With Young</td>\n",
       "      <td>Points</td>\n",
       "      <td>66.8</td>\n",
       "    </tr>\n",
       "    <tr>\n",
       "      <th>1</th>\n",
       "      <td>With Young</td>\n",
       "      <td>Points</td>\n",
       "      <td>64.3</td>\n",
       "    </tr>\n",
       "    <tr>\n",
       "      <th>2</th>\n",
       "      <td>With Young</td>\n",
       "      <td>Points</td>\n",
       "      <td>61.1</td>\n",
       "    </tr>\n",
       "    <tr>\n",
       "      <th>3</th>\n",
       "      <td>Without Young</td>\n",
       "      <td>Points</td>\n",
       "      <td>65.0</td>\n",
       "    </tr>\n",
       "    <tr>\n",
       "      <th>4</th>\n",
       "      <td>Without Young</td>\n",
       "      <td>Points</td>\n",
       "      <td>53.0</td>\n",
       "    </tr>\n",
       "  </tbody>\n",
       "</table>\n",
       "</div>"
      ],
      "text/plain": [
       "            trae    stat  value\n",
       "0     With Young  Points   66.8\n",
       "1     With Young  Points   64.3\n",
       "2     With Young  Points   61.1\n",
       "3  Without Young  Points   65.0\n",
       "4  Without Young  Points   53.0"
      ]
     },
     "execution_count": 114,
     "metadata": {},
     "output_type": "execute_result"
    }
   ],
   "source": [
    "melted.head()"
   ]
  },
  {
   "cell_type": "code",
   "execution_count": 151,
   "id": "33fa8631",
   "metadata": {},
   "outputs": [],
   "source": [
    "melted.rename(columns={'trae': ''}, inplace=True) \n"
   ]
  },
  {
   "cell_type": "markdown",
   "id": "93931c7c",
   "metadata": {},
   "source": [
    "### Time to plot! \n",
    "This grouped bar chart shows the average assits, points and rebounds per game for top Hawks players when assessed in pairs. The two groups represent pairs that include Trae Young (19 total pairs) and pairs that do not include Trae Young (119 total pairs). "
   ]
  },
  {
   "cell_type": "code",
   "execution_count": 119,
   "id": "795b6eaa",
   "metadata": {},
   "outputs": [],
   "source": [
    "from plotnine import *\n"
   ]
  },
  {
   "cell_type": "code",
   "execution_count": 154,
   "id": "2116b403",
   "metadata": {},
   "outputs": [
    {
     "data": {
      "image/png": "[encoded data removed]",
      "text/plain": [
       "<Figure size 640x480 with 1 Axes>"
      ]
     },
     "metadata": {},
     "output_type": "display_data"
    },
    {
     "data": {
      "text/plain": [
       "<ggplot: (302630459)>"
      ]
     },
     "execution_count": 154,
     "metadata": {},
     "output_type": "execute_result"
    }
   ],
   "source": [
    "# my_custom_theme = p9.theme(axis_text_x = p9.element_text(color=\"grey\", size=10,\n",
    "#                                                          angle=90, hjust=.5),\n",
    "#                            axis_text_y = p9.element_text(color=\"grey\", size=10))\n",
    "(\n",
    "    ggplot(melted)\n",
    "    #+ aes(x='trae', y='value', fill='stat')\n",
    "    + aes(x='reorder(stat, value)', y='value', fill='')\n",
    "    + geom_bar(stat='summary', fun_y=np.mean, position='dodge')\n",
    "    + theme_538()\n",
    "    + stat_summary(\n",
    "        aes(label=after_stat('round(y, 1)')),\n",
    "        geom='text',\n",
    "        fun_y=np.mean,\n",
    "        nudge_x=0.5,\n",
    "        size=10)\n",
    "    + labs(\n",
    "            title = \"Two-player lineups with Trae Young outperform all others\",\n",
    "            subtitle = \"\",\n",
    "            y = '',\n",
    "            x = '')\n",
    ")\n",
    "\n",
    "#QUESTIONS: \n",
    "    # struggling to move these bar annotations to the center of each bar, rather than of each line\n",
    "    # struggling to figure out theme overrides/replacements, but i would like to:\n",
    "        # remove numbers on Y axis\n",
    "        # change the colors of the bars\n",
    "        # add a subhead!! "
   ]
  },
  {
   "cell_type": "code",
   "execution_count": 155,
   "id": "63a5ac24",
   "metadata": {},
   "outputs": [
    {
     "data": {
      "image/png": "[encoded data removed]",
      "text/plain": [
       "<Figure size 640x480 with 1 Axes>"
      ]
     },
     "metadata": {},
     "output_type": "display_data"
    },
    {
     "data": {
      "text/plain": [
       "<ggplot: (302630186)>"
      ]
     },
     "execution_count": 155,
     "metadata": {},
     "output_type": "execute_result"
    }
   ],
   "source": [
    "(\n",
    "    ggplot(melted)\n",
    "    #+ aes(x='trae', y='value', fill='stat')\n",
    "    + aes(x='reorder(stat, value)', y='value', fill='')\n",
    "    + geom_bar(stat='summary', fun_y=np.mean, position='dodge')\n",
    "    + theme(axis_text_y=element_text(color='white'))\n",
    "    + stat_summary(\n",
    "        aes(label=after_stat('round(y, 1)')),\n",
    "        geom='text', position = position_stack(vjust = 0.5),\n",
    "        fun_y=np.mean,\n",
    "        nudge_x=0.5,\n",
    "        size=10)\n",
    "    + scale_fill_manual(values=['#E03A3E', 'gray'])\n",
    "  #  + geom_text(position=position_stack(vjust=0.5))\n",
    "    + labs(\n",
    "            title = \"Two-player lineups with Trae Young outperform those without Young\",\n",
    "            subtitle = \"\",\n",
    "            y = '',\n",
    "            x = '')\n",
    ")"
   ]
  },
  {
   "cell_type": "code",
   "execution_count": 158,
   "id": "a32071fa",
   "metadata": {},
   "outputs": [
    {
     "name": "stderr",
     "output_type": "stream",
     "text": [
      "/Users/jessieblaeser/.pyenv/versions/3.10.0/lib/python3.10/site-packages/plotnine/ggplot.py:719: PlotnineWarning: Saving 6.4 x 4.8 in image.\n",
      "/Users/jessieblaeser/.pyenv/versions/3.10.0/lib/python3.10/site-packages/plotnine/ggplot.py:722: PlotnineWarning: Filename: trae_and_non_trae.png\n"
     ]
    },
    {
     "data": {
      "image/png": "[encoded data removed]",
      "text/plain": [
       "<Figure size 640x480 with 1 Axes>"
      ]
     },
     "metadata": {},
     "output_type": "display_data"
    },
    {
     "data": {
      "text/plain": [
       "<ggplot: (303081953)>"
      ]
     },
     "execution_count": 158,
     "metadata": {},
     "output_type": "execute_result"
    }
   ],
   "source": [
    "chart = (\n",
    "    ggplot(melted)\n",
    "    #+ aes(x='trae', y='value', fill='stat')\n",
    "    + aes(x='reorder(stat, value)', y='value', fill='')\n",
    "    + geom_bar(stat='summary', fun_y=np.mean, position='dodge')\n",
    "    + theme_538()\n",
    "# NOTE: These commands will enable labels on the bars and eliminate labels on the y-axis\n",
    "# Ultimately, I decided the version below reads best, but this code can be helpful for future application:\n",
    "#    + theme(axis_text_y=element_text(color='white'))\n",
    "#     + stat_summary(\n",
    "#         aes(label=after_stat('round(y, 1)')),\n",
    "#         geom='text', position = position_stack(vjust = 0.5),\n",
    "#         fun_y=np.mean,\n",
    "#         nudge_x=0.5,\n",
    "#         size=10)\n",
    "    + scale_fill_manual(values=['#E03A3E', 'gray'])\n",
    "  #  + geom_text(position=position_stack(vjust=0.5))\n",
    "    + labs(\n",
    "            title = \"Two-player lineups with Trae Young outperform those without Young\",\n",
    "            subtitle = \"\",\n",
    "            y = '',\n",
    "            x = '')\n",
    ")\n",
    "chart.save(\"trae_and_non_trae.png\")\n",
    "chart"
   ]
  },
  {
   "cell_type": "code",
   "execution_count": null,
   "id": "a5a79078",
   "metadata": {},
   "outputs": [],
   "source": []
  }
 ],
 "metadata": {
  "kernelspec": {
   "display_name": "Python 3 (ipykernel)",
   "language": "python",
   "name": "python3"
  },
  "language_info": {
   "codemirror_mode": {
    "name": "ipython",
    "version": 3
   },
   "file_extension": ".py",
   "mimetype": "text/x-python",
   "name": "python",
   "nbconvert_exporter": "python",
   "pygments_lexer": "ipython3",
   "version": "3.10.0"
  }
 },
 "nbformat": 4,
 "nbformat_minor": 5
}
