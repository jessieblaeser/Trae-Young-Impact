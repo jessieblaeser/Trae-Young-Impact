{
 "cells": [
  {
   "cell_type": "markdown",
   "id": "e34098a5",
   "metadata": {},
   "source": [
    "# Let's just see what's out there???\n",
    "Starting with 5-player lineups for the 2021-22 season, as of Feb. 18, 2022"
   ]
  },
  {
   "cell_type": "code",
   "execution_count": 146,
   "id": "23112e7a",
   "metadata": {},
   "outputs": [],
   "source": [
    "import pandas as pd\n",
    "import numpy as np\n",
    "import os"
   ]
  },
  {
   "cell_type": "code",
   "execution_count": 147,
   "id": "4daa15c3",
   "metadata": {},
   "outputs": [
    {
     "data": {
      "text/html": [
       "<div>\n",
       "<style scoped>\n",
       "    .dataframe tbody tr th:only-of-type {\n",
       "        vertical-align: middle;\n",
       "    }\n",
       "\n",
       "    .dataframe tbody tr th {\n",
       "        vertical-align: top;\n",
       "    }\n",
       "\n",
       "    .dataframe thead th {\n",
       "        text-align: right;\n",
       "    }\n",
       "</style>\n",
       "<table border=\"1\" class=\"dataframe\">\n",
       "  <thead>\n",
       "    <tr style=\"text-align: right;\">\n",
       "      <th></th>\n",
       "      <th>group_name</th>\n",
       "      <th>team_abbreviation</th>\n",
       "      <th>gp</th>\n",
       "      <th>w</th>\n",
       "      <th>l</th>\n",
       "      <th>w_pct</th>\n",
       "      <th>min</th>\n",
       "      <th>fgm</th>\n",
       "      <th>fga</th>\n",
       "      <th>fg_pct</th>\n",
       "      <th>fg3m</th>\n",
       "      <th>fg3a</th>\n",
       "      <th>fg3_pct</th>\n",
       "      <th>ftm</th>\n",
       "      <th>fta</th>\n",
       "      <th>ft_pct</th>\n",
       "      <th>oreb</th>\n",
       "      <th>dreb</th>\n",
       "      <th>reb</th>\n",
       "      <th>ast</th>\n",
       "      <th>tov</th>\n",
       "      <th>stl</th>\n",
       "      <th>blk</th>\n",
       "      <th>blka</th>\n",
       "      <th>pf</th>\n",
       "      <th>pfd</th>\n",
       "      <th>pts</th>\n",
       "      <th>plus_minus</th>\n",
       "      <th>gp_rank</th>\n",
       "      <th>w_rank</th>\n",
       "      <th>l_rank</th>\n",
       "      <th>w_pct_rank</th>\n",
       "      <th>min_rank</th>\n",
       "      <th>fgm_rank</th>\n",
       "      <th>fga_rank</th>\n",
       "      <th>fg_pct_rank</th>\n",
       "      <th>fg3m_rank</th>\n",
       "      <th>fg3a_rank</th>\n",
       "      <th>fg3_pct_rank</th>\n",
       "      <th>ftm_rank</th>\n",
       "      <th>fta_rank</th>\n",
       "      <th>ft_pct_rank</th>\n",
       "      <th>oreb_rank</th>\n",
       "      <th>dreb_rank</th>\n",
       "      <th>reb_rank</th>\n",
       "      <th>ast_rank</th>\n",
       "      <th>tov_rank</th>\n",
       "      <th>stl_rank</th>\n",
       "      <th>blk_rank</th>\n",
       "      <th>blka_rank</th>\n",
       "      <th>pf_rank</th>\n",
       "      <th>pfd_rank</th>\n",
       "      <th>pts_rank</th>\n",
       "      <th>plus_minus_rank</th>\n",
       "    </tr>\n",
       "  </thead>\n",
       "  <tbody>\n",
       "    <tr>\n",
       "      <th>0</th>\n",
       "      <td>C. Capela - B. Bogdanovic - D. Wright - J. Col...</td>\n",
       "      <td>ATL</td>\n",
       "      <td>1</td>\n",
       "      <td>0</td>\n",
       "      <td>1</td>\n",
       "      <td>0.000</td>\n",
       "      <td>24.0</td>\n",
       "      <td>15.0</td>\n",
       "      <td>45.0</td>\n",
       "      <td>0.333</td>\n",
       "      <td>5.0</td>\n",
       "      <td>17.0</td>\n",
       "      <td>0.294</td>\n",
       "      <td>6.0</td>\n",
       "      <td>11.0</td>\n",
       "      <td>0.545</td>\n",
       "      <td>6.0</td>\n",
       "      <td>17.0</td>\n",
       "      <td>23.0</td>\n",
       "      <td>12.0</td>\n",
       "      <td>5.0</td>\n",
       "      <td>5.0</td>\n",
       "      <td>3.0</td>\n",
       "      <td>4.0</td>\n",
       "      <td>6.0</td>\n",
       "      <td>8.0</td>\n",
       "      <td>41.0</td>\n",
       "      <td>-16.0</td>\n",
       "      <td>123</td>\n",
       "      <td>204</td>\n",
       "      <td>119</td>\n",
       "      <td>204</td>\n",
       "      <td>1</td>\n",
       "      <td>2</td>\n",
       "      <td>1</td>\n",
       "      <td>212</td>\n",
       "      <td>1</td>\n",
       "      <td>1</td>\n",
       "      <td>157</td>\n",
       "      <td>3</td>\n",
       "      <td>1</td>\n",
       "      <td>171</td>\n",
       "      <td>2</td>\n",
       "      <td>2</td>\n",
       "      <td>2</td>\n",
       "      <td>1</td>\n",
       "      <td>342</td>\n",
       "      <td>1</td>\n",
       "      <td>1</td>\n",
       "      <td>346</td>\n",
       "      <td>345</td>\n",
       "      <td>2</td>\n",
       "      <td>2</td>\n",
       "      <td>346</td>\n",
       "    </tr>\n",
       "    <tr>\n",
       "      <th>1</th>\n",
       "      <td>C. Capela - B. Bogdanovic - T. Young - C. Redd...</td>\n",
       "      <td>ATL</td>\n",
       "      <td>1</td>\n",
       "      <td>0</td>\n",
       "      <td>1</td>\n",
       "      <td>0.000</td>\n",
       "      <td>19.1</td>\n",
       "      <td>16.0</td>\n",
       "      <td>39.0</td>\n",
       "      <td>0.410</td>\n",
       "      <td>5.0</td>\n",
       "      <td>13.0</td>\n",
       "      <td>0.385</td>\n",
       "      <td>5.0</td>\n",
       "      <td>5.0</td>\n",
       "      <td>1.000</td>\n",
       "      <td>6.0</td>\n",
       "      <td>18.0</td>\n",
       "      <td>24.0</td>\n",
       "      <td>8.0</td>\n",
       "      <td>6.0</td>\n",
       "      <td>2.0</td>\n",
       "      <td>3.0</td>\n",
       "      <td>3.0</td>\n",
       "      <td>4.0</td>\n",
       "      <td>5.0</td>\n",
       "      <td>42.0</td>\n",
       "      <td>-6.0</td>\n",
       "      <td>123</td>\n",
       "      <td>204</td>\n",
       "      <td>119</td>\n",
       "      <td>204</td>\n",
       "      <td>2</td>\n",
       "      <td>1</td>\n",
       "      <td>2</td>\n",
       "      <td>183</td>\n",
       "      <td>1</td>\n",
       "      <td>2</td>\n",
       "      <td>121</td>\n",
       "      <td>8</td>\n",
       "      <td>19</td>\n",
       "      <td>1</td>\n",
       "      <td>2</td>\n",
       "      <td>1</td>\n",
       "      <td>1</td>\n",
       "      <td>4</td>\n",
       "      <td>345</td>\n",
       "      <td>5</td>\n",
       "      <td>1</td>\n",
       "      <td>343</td>\n",
       "      <td>324</td>\n",
       "      <td>9</td>\n",
       "      <td>1</td>\n",
       "      <td>328</td>\n",
       "    </tr>\n",
       "    <tr>\n",
       "      <th>2</th>\n",
       "      <td>C. Capela - B. Bogdanovic - J. Collins - T. Yo...</td>\n",
       "      <td>ATL</td>\n",
       "      <td>14</td>\n",
       "      <td>5</td>\n",
       "      <td>9</td>\n",
       "      <td>0.357</td>\n",
       "      <td>16.0</td>\n",
       "      <td>15.0</td>\n",
       "      <td>29.9</td>\n",
       "      <td>0.502</td>\n",
       "      <td>3.6</td>\n",
       "      <td>8.6</td>\n",
       "      <td>0.425</td>\n",
       "      <td>4.5</td>\n",
       "      <td>6.2</td>\n",
       "      <td>0.724</td>\n",
       "      <td>3.6</td>\n",
       "      <td>11.5</td>\n",
       "      <td>15.1</td>\n",
       "      <td>8.6</td>\n",
       "      <td>4.1</td>\n",
       "      <td>2.0</td>\n",
       "      <td>1.2</td>\n",
       "      <td>1.5</td>\n",
       "      <td>5.8</td>\n",
       "      <td>6.6</td>\n",
       "      <td>38.1</td>\n",
       "      <td>1.0</td>\n",
       "      <td>1</td>\n",
       "      <td>7</td>\n",
       "      <td>346</td>\n",
       "      <td>180</td>\n",
       "      <td>3</td>\n",
       "      <td>2</td>\n",
       "      <td>3</td>\n",
       "      <td>105</td>\n",
       "      <td>7</td>\n",
       "      <td>10</td>\n",
       "      <td>109</td>\n",
       "      <td>13</td>\n",
       "      <td>7</td>\n",
       "      <td>150</td>\n",
       "      <td>9</td>\n",
       "      <td>6</td>\n",
       "      <td>5</td>\n",
       "      <td>2</td>\n",
       "      <td>339</td>\n",
       "      <td>5</td>\n",
       "      <td>18</td>\n",
       "      <td>332</td>\n",
       "      <td>344</td>\n",
       "      <td>4</td>\n",
       "      <td>3</td>\n",
       "      <td>99</td>\n",
       "    </tr>\n",
       "    <tr>\n",
       "      <th>3</th>\n",
       "      <td>C. Capela - T. Luwawu-Cabarrot - J. Collins - ...</td>\n",
       "      <td>ATL</td>\n",
       "      <td>10</td>\n",
       "      <td>3</td>\n",
       "      <td>7</td>\n",
       "      <td>0.300</td>\n",
       "      <td>15.1</td>\n",
       "      <td>13.8</td>\n",
       "      <td>29.6</td>\n",
       "      <td>0.466</td>\n",
       "      <td>4.6</td>\n",
       "      <td>11.4</td>\n",
       "      <td>0.404</td>\n",
       "      <td>5.5</td>\n",
       "      <td>7.0</td>\n",
       "      <td>0.786</td>\n",
       "      <td>4.8</td>\n",
       "      <td>12.1</td>\n",
       "      <td>16.9</td>\n",
       "      <td>8.4</td>\n",
       "      <td>4.2</td>\n",
       "      <td>2.0</td>\n",
       "      <td>2.0</td>\n",
       "      <td>2.1</td>\n",
       "      <td>5.7</td>\n",
       "      <td>5.4</td>\n",
       "      <td>37.7</td>\n",
       "      <td>3.1</td>\n",
       "      <td>7</td>\n",
       "      <td>25</td>\n",
       "      <td>343</td>\n",
       "      <td>195</td>\n",
       "      <td>4</td>\n",
       "      <td>4</td>\n",
       "      <td>4</td>\n",
       "      <td>156</td>\n",
       "      <td>6</td>\n",
       "      <td>3</td>\n",
       "      <td>112</td>\n",
       "      <td>7</td>\n",
       "      <td>5</td>\n",
       "      <td>136</td>\n",
       "      <td>4</td>\n",
       "      <td>5</td>\n",
       "      <td>4</td>\n",
       "      <td>3</td>\n",
       "      <td>340</td>\n",
       "      <td>5</td>\n",
       "      <td>5</td>\n",
       "      <td>342</td>\n",
       "      <td>343</td>\n",
       "      <td>8</td>\n",
       "      <td>5</td>\n",
       "      <td>44</td>\n",
       "    </tr>\n",
       "    <tr>\n",
       "      <th>4</th>\n",
       "      <td>L. Williams - D. Gallinari - B. Bogdanovic - K...</td>\n",
       "      <td>ATL</td>\n",
       "      <td>1</td>\n",
       "      <td>0</td>\n",
       "      <td>1</td>\n",
       "      <td>0.000</td>\n",
       "      <td>14.9</td>\n",
       "      <td>12.0</td>\n",
       "      <td>25.0</td>\n",
       "      <td>0.480</td>\n",
       "      <td>5.0</td>\n",
       "      <td>11.0</td>\n",
       "      <td>0.455</td>\n",
       "      <td>9.0</td>\n",
       "      <td>11.0</td>\n",
       "      <td>0.818</td>\n",
       "      <td>2.0</td>\n",
       "      <td>13.0</td>\n",
       "      <td>15.0</td>\n",
       "      <td>7.0</td>\n",
       "      <td>2.0</td>\n",
       "      <td>0.0</td>\n",
       "      <td>2.0</td>\n",
       "      <td>1.0</td>\n",
       "      <td>4.0</td>\n",
       "      <td>7.0</td>\n",
       "      <td>38.0</td>\n",
       "      <td>2.0</td>\n",
       "      <td>123</td>\n",
       "      <td>204</td>\n",
       "      <td>119</td>\n",
       "      <td>204</td>\n",
       "      <td>5</td>\n",
       "      <td>7</td>\n",
       "      <td>6</td>\n",
       "      <td>149</td>\n",
       "      <td>1</td>\n",
       "      <td>4</td>\n",
       "      <td>99</td>\n",
       "      <td>1</td>\n",
       "      <td>1</td>\n",
       "      <td>128</td>\n",
       "      <td>20</td>\n",
       "      <td>3</td>\n",
       "      <td>6</td>\n",
       "      <td>8</td>\n",
       "      <td>300</td>\n",
       "      <td>137</td>\n",
       "      <td>5</td>\n",
       "      <td>293</td>\n",
       "      <td>324</td>\n",
       "      <td>3</td>\n",
       "      <td>4</td>\n",
       "      <td>73</td>\n",
       "    </tr>\n",
       "  </tbody>\n",
       "</table>\n",
       "</div>"
      ],
      "text/plain": [
       "                                          group_name team_abbreviation  gp  w  \\\n",
       "0  C. Capela - B. Bogdanovic - D. Wright - J. Col...               ATL   1  0   \n",
       "1  C. Capela - B. Bogdanovic - T. Young - C. Redd...               ATL   1  0   \n",
       "2  C. Capela - B. Bogdanovic - J. Collins - T. Yo...               ATL  14  5   \n",
       "3  C. Capela - T. Luwawu-Cabarrot - J. Collins - ...               ATL  10  3   \n",
       "4  L. Williams - D. Gallinari - B. Bogdanovic - K...               ATL   1  0   \n",
       "\n",
       "   l  w_pct   min   fgm   fga  fg_pct  fg3m  fg3a  fg3_pct  ftm   fta  ft_pct  \\\n",
       "0  1  0.000  24.0  15.0  45.0   0.333   5.0  17.0    0.294  6.0  11.0   0.545   \n",
       "1  1  0.000  19.1  16.0  39.0   0.410   5.0  13.0    0.385  5.0   5.0   1.000   \n",
       "2  9  0.357  16.0  15.0  29.9   0.502   3.6   8.6    0.425  4.5   6.2   0.724   \n",
       "3  7  0.300  15.1  13.8  29.6   0.466   4.6  11.4    0.404  5.5   7.0   0.786   \n",
       "4  1  0.000  14.9  12.0  25.0   0.480   5.0  11.0    0.455  9.0  11.0   0.818   \n",
       "\n",
       "   oreb  dreb   reb   ast  tov  stl  blk  blka   pf  pfd   pts  plus_minus  \\\n",
       "0   6.0  17.0  23.0  12.0  5.0  5.0  3.0   4.0  6.0  8.0  41.0       -16.0   \n",
       "1   6.0  18.0  24.0   8.0  6.0  2.0  3.0   3.0  4.0  5.0  42.0        -6.0   \n",
       "2   3.6  11.5  15.1   8.6  4.1  2.0  1.2   1.5  5.8  6.6  38.1         1.0   \n",
       "3   4.8  12.1  16.9   8.4  4.2  2.0  2.0   2.1  5.7  5.4  37.7         3.1   \n",
       "4   2.0  13.0  15.0   7.0  2.0  0.0  2.0   1.0  4.0  7.0  38.0         2.0   \n",
       "\n",
       "   gp_rank  w_rank  l_rank  w_pct_rank  min_rank  fgm_rank  fga_rank  \\\n",
       "0      123     204     119         204         1         2         1   \n",
       "1      123     204     119         204         2         1         2   \n",
       "2        1       7     346         180         3         2         3   \n",
       "3        7      25     343         195         4         4         4   \n",
       "4      123     204     119         204         5         7         6   \n",
       "\n",
       "   fg_pct_rank  fg3m_rank  fg3a_rank  fg3_pct_rank  ftm_rank  fta_rank  \\\n",
       "0          212          1          1           157         3         1   \n",
       "1          183          1          2           121         8        19   \n",
       "2          105          7         10           109        13         7   \n",
       "3          156          6          3           112         7         5   \n",
       "4          149          1          4            99         1         1   \n",
       "\n",
       "   ft_pct_rank  oreb_rank  dreb_rank  reb_rank  ast_rank  tov_rank  stl_rank  \\\n",
       "0          171          2          2         2         1       342         1   \n",
       "1            1          2          1         1         4       345         5   \n",
       "2          150          9          6         5         2       339         5   \n",
       "3          136          4          5         4         3       340         5   \n",
       "4          128         20          3         6         8       300       137   \n",
       "\n",
       "   blk_rank  blka_rank  pf_rank  pfd_rank  pts_rank  plus_minus_rank  \n",
       "0         1        346      345         2         2              346  \n",
       "1         1        343      324         9         1              328  \n",
       "2        18        332      344         4         3               99  \n",
       "3         5        342      343         8         5               44  \n",
       "4         5        293      324         3         4               73  "
      ]
     },
     "execution_count": 147,
     "metadata": {},
     "output_type": "execute_result"
    }
   ],
   "source": [
    "df = pd.read_csv(\"../data/processed/2122_lineups/five_player_lineups_2122.csv\")\n",
    "df.head()"
   ]
  },
  {
   "cell_type": "markdown",
   "id": "199a2853",
   "metadata": {},
   "source": [
    "### Finding the lineups that include Young"
   ]
  },
  {
   "cell_type": "code",
   "execution_count": 148,
   "id": "5b05e910",
   "metadata": {},
   "outputs": [
    {
     "data": {
      "text/plain": [
       "True     176\n",
       "False    170\n",
       "Name: group_name, dtype: int64"
      ]
     },
     "execution_count": 148,
     "metadata": {},
     "output_type": "execute_result"
    }
   ],
   "source": [
    "#df.primary_cause.str.contains(\"GUN\", na=False).value_counts()\n",
    "df.group_name.str.contains('T. Young', na=False).value_counts()\n",
    "# Young is in the majority of the 5-player line-ups the Hawks have had this season \n",
    "#homicides_df = df[df.manner_of_death == 'HOMICIDE'].copy()\n"
   ]
  },
  {
   "cell_type": "code",
   "execution_count": 149,
   "id": "9426271d",
   "metadata": {},
   "outputs": [
    {
     "data": {
      "text/plain": [
       "True     0.508671\n",
       "False    0.491329\n",
       "Name: group_name, dtype: float64"
      ]
     },
     "execution_count": 149,
     "metadata": {},
     "output_type": "execute_result"
    }
   ],
   "source": [
    "df.group_name.str.contains('T. Young', na=False).value_counts(normalize=True)\n",
    "# Young is in roughly 51% of the lineups "
   ]
  },
  {
   "cell_type": "code",
   "execution_count": 150,
   "id": "4526705b",
   "metadata": {},
   "outputs": [
    {
     "data": {
      "text/plain": [
       "<AxesSubplot:>"
      ]
     },
     "execution_count": 150,
     "metadata": {},
     "output_type": "execute_result"
    },
    {
     "data": {
      "image/png": "[encoded data removed]",
      "text/plain": [
       "<Figure size 432x288 with 1 Axes>"
      ]
     },
     "metadata": {
      "needs_background": "light"
     },
     "output_type": "display_data"
    }
   ],
   "source": [
    "# Let's plot! \n",
    "df.group_name.str.contains('T. Young', na=False).value_counts().plot(kind='barh')\n",
    "# NOTE TO SELF: I think this will be cooler as a 3-way stacked bar chart showing Trae and non Trae combos for 5, 3, and 2 player lineups"
   ]
  },
  {
   "cell_type": "markdown",
   "id": "80fca6ce",
   "metadata": {},
   "source": [
    "### Adding a boolean column for Trae and non-Trae:"
   ]
  },
  {
   "cell_type": "code",
   "execution_count": 179,
   "id": "18d3333a",
   "metadata": {},
   "outputs": [
    {
     "data": {
      "text/plain": [
       "0    182\n",
       "1     22\n",
       "Name: trae, dtype: int64"
      ]
     },
     "execution_count": 179,
     "metadata": {},
     "output_type": "execute_result"
    }
   ],
   "source": [
    "df['trae'] = (df.group_name.str.contains('T. Young', na=False) == True) \n",
    "df.head()\n",
    "#df['trae'].value_counts()\n",
    "df['trae'] = df['trae'].astype(int)\n",
    "df['trae'].value_counts()"
   ]
  },
  {
   "cell_type": "code",
   "execution_count": 152,
   "id": "5fdf1add",
   "metadata": {
    "scrolled": true
   },
   "outputs": [
    {
     "data": {
      "text/html": [
       "<div>\n",
       "<style scoped>\n",
       "    .dataframe tbody tr th:only-of-type {\n",
       "        vertical-align: middle;\n",
       "    }\n",
       "\n",
       "    .dataframe tbody tr th {\n",
       "        vertical-align: top;\n",
       "    }\n",
       "\n",
       "    .dataframe thead th {\n",
       "        text-align: right;\n",
       "    }\n",
       "</style>\n",
       "<table border=\"1\" class=\"dataframe\">\n",
       "  <thead>\n",
       "    <tr style=\"text-align: right;\">\n",
       "      <th></th>\n",
       "      <th>group_name</th>\n",
       "      <th>team_abbreviation</th>\n",
       "      <th>gp</th>\n",
       "      <th>w</th>\n",
       "      <th>l</th>\n",
       "      <th>w_pct</th>\n",
       "      <th>min</th>\n",
       "      <th>fgm</th>\n",
       "      <th>fga</th>\n",
       "      <th>fg_pct</th>\n",
       "      <th>fg3m</th>\n",
       "      <th>fg3a</th>\n",
       "      <th>fg3_pct</th>\n",
       "      <th>ftm</th>\n",
       "      <th>fta</th>\n",
       "      <th>ft_pct</th>\n",
       "      <th>oreb</th>\n",
       "      <th>dreb</th>\n",
       "      <th>reb</th>\n",
       "      <th>ast</th>\n",
       "      <th>tov</th>\n",
       "      <th>stl</th>\n",
       "      <th>blk</th>\n",
       "      <th>blka</th>\n",
       "      <th>pf</th>\n",
       "      <th>pfd</th>\n",
       "      <th>pts</th>\n",
       "      <th>plus_minus</th>\n",
       "      <th>gp_rank</th>\n",
       "      <th>w_rank</th>\n",
       "      <th>l_rank</th>\n",
       "      <th>w_pct_rank</th>\n",
       "      <th>min_rank</th>\n",
       "      <th>fgm_rank</th>\n",
       "      <th>fga_rank</th>\n",
       "      <th>fg_pct_rank</th>\n",
       "      <th>fg3m_rank</th>\n",
       "      <th>fg3a_rank</th>\n",
       "      <th>fg3_pct_rank</th>\n",
       "      <th>ftm_rank</th>\n",
       "      <th>fta_rank</th>\n",
       "      <th>ft_pct_rank</th>\n",
       "      <th>oreb_rank</th>\n",
       "      <th>dreb_rank</th>\n",
       "      <th>reb_rank</th>\n",
       "      <th>ast_rank</th>\n",
       "      <th>tov_rank</th>\n",
       "      <th>stl_rank</th>\n",
       "      <th>blk_rank</th>\n",
       "      <th>blka_rank</th>\n",
       "      <th>pf_rank</th>\n",
       "      <th>pfd_rank</th>\n",
       "      <th>pts_rank</th>\n",
       "      <th>plus_minus_rank</th>\n",
       "      <th>trae</th>\n",
       "    </tr>\n",
       "  </thead>\n",
       "  <tbody>\n",
       "    <tr>\n",
       "      <th>0</th>\n",
       "      <td>C. Capela - B. Bogdanovic - D. Wright - J. Col...</td>\n",
       "      <td>ATL</td>\n",
       "      <td>1</td>\n",
       "      <td>0</td>\n",
       "      <td>1</td>\n",
       "      <td>0.000</td>\n",
       "      <td>24.0</td>\n",
       "      <td>15.0</td>\n",
       "      <td>45.0</td>\n",
       "      <td>0.333</td>\n",
       "      <td>5.0</td>\n",
       "      <td>17.0</td>\n",
       "      <td>0.294</td>\n",
       "      <td>6.0</td>\n",
       "      <td>11.0</td>\n",
       "      <td>0.545</td>\n",
       "      <td>6.0</td>\n",
       "      <td>17.0</td>\n",
       "      <td>23.0</td>\n",
       "      <td>12.0</td>\n",
       "      <td>5.0</td>\n",
       "      <td>5.0</td>\n",
       "      <td>3.0</td>\n",
       "      <td>4.0</td>\n",
       "      <td>6.0</td>\n",
       "      <td>8.0</td>\n",
       "      <td>41.0</td>\n",
       "      <td>-16.0</td>\n",
       "      <td>123</td>\n",
       "      <td>204</td>\n",
       "      <td>119</td>\n",
       "      <td>204</td>\n",
       "      <td>1</td>\n",
       "      <td>2</td>\n",
       "      <td>1</td>\n",
       "      <td>212</td>\n",
       "      <td>1</td>\n",
       "      <td>1</td>\n",
       "      <td>157</td>\n",
       "      <td>3</td>\n",
       "      <td>1</td>\n",
       "      <td>171</td>\n",
       "      <td>2</td>\n",
       "      <td>2</td>\n",
       "      <td>2</td>\n",
       "      <td>1</td>\n",
       "      <td>342</td>\n",
       "      <td>1</td>\n",
       "      <td>1</td>\n",
       "      <td>346</td>\n",
       "      <td>345</td>\n",
       "      <td>2</td>\n",
       "      <td>2</td>\n",
       "      <td>346</td>\n",
       "      <td>0</td>\n",
       "    </tr>\n",
       "    <tr>\n",
       "      <th>1</th>\n",
       "      <td>C. Capela - B. Bogdanovic - T. Young - C. Redd...</td>\n",
       "      <td>ATL</td>\n",
       "      <td>1</td>\n",
       "      <td>0</td>\n",
       "      <td>1</td>\n",
       "      <td>0.000</td>\n",
       "      <td>19.1</td>\n",
       "      <td>16.0</td>\n",
       "      <td>39.0</td>\n",
       "      <td>0.410</td>\n",
       "      <td>5.0</td>\n",
       "      <td>13.0</td>\n",
       "      <td>0.385</td>\n",
       "      <td>5.0</td>\n",
       "      <td>5.0</td>\n",
       "      <td>1.000</td>\n",
       "      <td>6.0</td>\n",
       "      <td>18.0</td>\n",
       "      <td>24.0</td>\n",
       "      <td>8.0</td>\n",
       "      <td>6.0</td>\n",
       "      <td>2.0</td>\n",
       "      <td>3.0</td>\n",
       "      <td>3.0</td>\n",
       "      <td>4.0</td>\n",
       "      <td>5.0</td>\n",
       "      <td>42.0</td>\n",
       "      <td>-6.0</td>\n",
       "      <td>123</td>\n",
       "      <td>204</td>\n",
       "      <td>119</td>\n",
       "      <td>204</td>\n",
       "      <td>2</td>\n",
       "      <td>1</td>\n",
       "      <td>2</td>\n",
       "      <td>183</td>\n",
       "      <td>1</td>\n",
       "      <td>2</td>\n",
       "      <td>121</td>\n",
       "      <td>8</td>\n",
       "      <td>19</td>\n",
       "      <td>1</td>\n",
       "      <td>2</td>\n",
       "      <td>1</td>\n",
       "      <td>1</td>\n",
       "      <td>4</td>\n",
       "      <td>345</td>\n",
       "      <td>5</td>\n",
       "      <td>1</td>\n",
       "      <td>343</td>\n",
       "      <td>324</td>\n",
       "      <td>9</td>\n",
       "      <td>1</td>\n",
       "      <td>328</td>\n",
       "      <td>1</td>\n",
       "    </tr>\n",
       "    <tr>\n",
       "      <th>2</th>\n",
       "      <td>C. Capela - B. Bogdanovic - J. Collins - T. Yo...</td>\n",
       "      <td>ATL</td>\n",
       "      <td>14</td>\n",
       "      <td>5</td>\n",
       "      <td>9</td>\n",
       "      <td>0.357</td>\n",
       "      <td>16.0</td>\n",
       "      <td>15.0</td>\n",
       "      <td>29.9</td>\n",
       "      <td>0.502</td>\n",
       "      <td>3.6</td>\n",
       "      <td>8.6</td>\n",
       "      <td>0.425</td>\n",
       "      <td>4.5</td>\n",
       "      <td>6.2</td>\n",
       "      <td>0.724</td>\n",
       "      <td>3.6</td>\n",
       "      <td>11.5</td>\n",
       "      <td>15.1</td>\n",
       "      <td>8.6</td>\n",
       "      <td>4.1</td>\n",
       "      <td>2.0</td>\n",
       "      <td>1.2</td>\n",
       "      <td>1.5</td>\n",
       "      <td>5.8</td>\n",
       "      <td>6.6</td>\n",
       "      <td>38.1</td>\n",
       "      <td>1.0</td>\n",
       "      <td>1</td>\n",
       "      <td>7</td>\n",
       "      <td>346</td>\n",
       "      <td>180</td>\n",
       "      <td>3</td>\n",
       "      <td>2</td>\n",
       "      <td>3</td>\n",
       "      <td>105</td>\n",
       "      <td>7</td>\n",
       "      <td>10</td>\n",
       "      <td>109</td>\n",
       "      <td>13</td>\n",
       "      <td>7</td>\n",
       "      <td>150</td>\n",
       "      <td>9</td>\n",
       "      <td>6</td>\n",
       "      <td>5</td>\n",
       "      <td>2</td>\n",
       "      <td>339</td>\n",
       "      <td>5</td>\n",
       "      <td>18</td>\n",
       "      <td>332</td>\n",
       "      <td>344</td>\n",
       "      <td>4</td>\n",
       "      <td>3</td>\n",
       "      <td>99</td>\n",
       "      <td>1</td>\n",
       "    </tr>\n",
       "    <tr>\n",
       "      <th>3</th>\n",
       "      <td>C. Capela - T. Luwawu-Cabarrot - J. Collins - ...</td>\n",
       "      <td>ATL</td>\n",
       "      <td>10</td>\n",
       "      <td>3</td>\n",
       "      <td>7</td>\n",
       "      <td>0.300</td>\n",
       "      <td>15.1</td>\n",
       "      <td>13.8</td>\n",
       "      <td>29.6</td>\n",
       "      <td>0.466</td>\n",
       "      <td>4.6</td>\n",
       "      <td>11.4</td>\n",
       "      <td>0.404</td>\n",
       "      <td>5.5</td>\n",
       "      <td>7.0</td>\n",
       "      <td>0.786</td>\n",
       "      <td>4.8</td>\n",
       "      <td>12.1</td>\n",
       "      <td>16.9</td>\n",
       "      <td>8.4</td>\n",
       "      <td>4.2</td>\n",
       "      <td>2.0</td>\n",
       "      <td>2.0</td>\n",
       "      <td>2.1</td>\n",
       "      <td>5.7</td>\n",
       "      <td>5.4</td>\n",
       "      <td>37.7</td>\n",
       "      <td>3.1</td>\n",
       "      <td>7</td>\n",
       "      <td>25</td>\n",
       "      <td>343</td>\n",
       "      <td>195</td>\n",
       "      <td>4</td>\n",
       "      <td>4</td>\n",
       "      <td>4</td>\n",
       "      <td>156</td>\n",
       "      <td>6</td>\n",
       "      <td>3</td>\n",
       "      <td>112</td>\n",
       "      <td>7</td>\n",
       "      <td>5</td>\n",
       "      <td>136</td>\n",
       "      <td>4</td>\n",
       "      <td>5</td>\n",
       "      <td>4</td>\n",
       "      <td>3</td>\n",
       "      <td>340</td>\n",
       "      <td>5</td>\n",
       "      <td>5</td>\n",
       "      <td>342</td>\n",
       "      <td>343</td>\n",
       "      <td>8</td>\n",
       "      <td>5</td>\n",
       "      <td>44</td>\n",
       "      <td>1</td>\n",
       "    </tr>\n",
       "    <tr>\n",
       "      <th>4</th>\n",
       "      <td>L. Williams - D. Gallinari - B. Bogdanovic - K...</td>\n",
       "      <td>ATL</td>\n",
       "      <td>1</td>\n",
       "      <td>0</td>\n",
       "      <td>1</td>\n",
       "      <td>0.000</td>\n",
       "      <td>14.9</td>\n",
       "      <td>12.0</td>\n",
       "      <td>25.0</td>\n",
       "      <td>0.480</td>\n",
       "      <td>5.0</td>\n",
       "      <td>11.0</td>\n",
       "      <td>0.455</td>\n",
       "      <td>9.0</td>\n",
       "      <td>11.0</td>\n",
       "      <td>0.818</td>\n",
       "      <td>2.0</td>\n",
       "      <td>13.0</td>\n",
       "      <td>15.0</td>\n",
       "      <td>7.0</td>\n",
       "      <td>2.0</td>\n",
       "      <td>0.0</td>\n",
       "      <td>2.0</td>\n",
       "      <td>1.0</td>\n",
       "      <td>4.0</td>\n",
       "      <td>7.0</td>\n",
       "      <td>38.0</td>\n",
       "      <td>2.0</td>\n",
       "      <td>123</td>\n",
       "      <td>204</td>\n",
       "      <td>119</td>\n",
       "      <td>204</td>\n",
       "      <td>5</td>\n",
       "      <td>7</td>\n",
       "      <td>6</td>\n",
       "      <td>149</td>\n",
       "      <td>1</td>\n",
       "      <td>4</td>\n",
       "      <td>99</td>\n",
       "      <td>1</td>\n",
       "      <td>1</td>\n",
       "      <td>128</td>\n",
       "      <td>20</td>\n",
       "      <td>3</td>\n",
       "      <td>6</td>\n",
       "      <td>8</td>\n",
       "      <td>300</td>\n",
       "      <td>137</td>\n",
       "      <td>5</td>\n",
       "      <td>293</td>\n",
       "      <td>324</td>\n",
       "      <td>3</td>\n",
       "      <td>4</td>\n",
       "      <td>73</td>\n",
       "      <td>0</td>\n",
       "    </tr>\n",
       "  </tbody>\n",
       "</table>\n",
       "</div>"
      ],
      "text/plain": [
       "                                          group_name team_abbreviation  gp  w  \\\n",
       "0  C. Capela - B. Bogdanovic - D. Wright - J. Col...               ATL   1  0   \n",
       "1  C. Capela - B. Bogdanovic - T. Young - C. Redd...               ATL   1  0   \n",
       "2  C. Capela - B. Bogdanovic - J. Collins - T. Yo...               ATL  14  5   \n",
       "3  C. Capela - T. Luwawu-Cabarrot - J. Collins - ...               ATL  10  3   \n",
       "4  L. Williams - D. Gallinari - B. Bogdanovic - K...               ATL   1  0   \n",
       "\n",
       "   l  w_pct   min   fgm   fga  fg_pct  fg3m  fg3a  fg3_pct  ftm   fta  ft_pct  \\\n",
       "0  1  0.000  24.0  15.0  45.0   0.333   5.0  17.0    0.294  6.0  11.0   0.545   \n",
       "1  1  0.000  19.1  16.0  39.0   0.410   5.0  13.0    0.385  5.0   5.0   1.000   \n",
       "2  9  0.357  16.0  15.0  29.9   0.502   3.6   8.6    0.425  4.5   6.2   0.724   \n",
       "3  7  0.300  15.1  13.8  29.6   0.466   4.6  11.4    0.404  5.5   7.0   0.786   \n",
       "4  1  0.000  14.9  12.0  25.0   0.480   5.0  11.0    0.455  9.0  11.0   0.818   \n",
       "\n",
       "   oreb  dreb   reb   ast  tov  stl  blk  blka   pf  pfd   pts  plus_minus  \\\n",
       "0   6.0  17.0  23.0  12.0  5.0  5.0  3.0   4.0  6.0  8.0  41.0       -16.0   \n",
       "1   6.0  18.0  24.0   8.0  6.0  2.0  3.0   3.0  4.0  5.0  42.0        -6.0   \n",
       "2   3.6  11.5  15.1   8.6  4.1  2.0  1.2   1.5  5.8  6.6  38.1         1.0   \n",
       "3   4.8  12.1  16.9   8.4  4.2  2.0  2.0   2.1  5.7  5.4  37.7         3.1   \n",
       "4   2.0  13.0  15.0   7.0  2.0  0.0  2.0   1.0  4.0  7.0  38.0         2.0   \n",
       "\n",
       "   gp_rank  w_rank  l_rank  w_pct_rank  min_rank  fgm_rank  fga_rank  \\\n",
       "0      123     204     119         204         1         2         1   \n",
       "1      123     204     119         204         2         1         2   \n",
       "2        1       7     346         180         3         2         3   \n",
       "3        7      25     343         195         4         4         4   \n",
       "4      123     204     119         204         5         7         6   \n",
       "\n",
       "   fg_pct_rank  fg3m_rank  fg3a_rank  fg3_pct_rank  ftm_rank  fta_rank  \\\n",
       "0          212          1          1           157         3         1   \n",
       "1          183          1          2           121         8        19   \n",
       "2          105          7         10           109        13         7   \n",
       "3          156          6          3           112         7         5   \n",
       "4          149          1          4            99         1         1   \n",
       "\n",
       "   ft_pct_rank  oreb_rank  dreb_rank  reb_rank  ast_rank  tov_rank  stl_rank  \\\n",
       "0          171          2          2         2         1       342         1   \n",
       "1            1          2          1         1         4       345         5   \n",
       "2          150          9          6         5         2       339         5   \n",
       "3          136          4          5         4         3       340         5   \n",
       "4          128         20          3         6         8       300       137   \n",
       "\n",
       "   blk_rank  blka_rank  pf_rank  pfd_rank  pts_rank  plus_minus_rank  trae  \n",
       "0         1        346      345         2         2              346     0  \n",
       "1         1        343      324         9         1              328     1  \n",
       "2        18        332      344         4         3               99     1  \n",
       "3         5        342      343         8         5               44     1  \n",
       "4         5        293      324         3         4               73     0  "
      ]
     },
     "execution_count": 152,
     "metadata": {},
     "output_type": "execute_result"
    }
   ],
   "source": [
    "df.head()"
   ]
  },
  {
   "cell_type": "markdown",
   "id": "6863f158",
   "metadata": {},
   "source": [
    "## Now we can really get to business comparing\n",
    "* debating about making a different df for trae and non-trae columns. Idk why, but I don't really want to, not sure if that's right\n",
    "* also now seems like a good time to give insight into all the column names, see below\n",
    "\n",
    "### Column names according to [NBA.com](https://www.nba.com/stats/lineups/traditional/?Season=2021-22&SeasonType=Regular%20Season&TeamID=1610612737)\n",
    "\n",
    "* GP: Games played\n",
    "* MIN: Minutes played\n",
    "* PTS: Points\n",
    "* FGM: Field goals made\n",
    "* FGA: Field goals attempted\n",
    "* 3PM: 3 Point field goals made\n",
    "* 3PA: 3 Point field goals attempted\n",
    "* 3P%: 3 Point field goals percentage\n",
    "* FTM: Free throws made\n",
    "* FTA: Free throws attempted\n",
    "* FT%: Free throw percentage\n",
    "* OREB: Offensive rebounds\n",
    "* DREB: Defensive rebounds\n",
    "* REB: Rebounds\n",
    "* AST Assists\n",
    "* TOV: Turnovers\n",
    "* STL: Steals\n",
    "* BLK: Blocks\n",
    "* BLKA: Blocked field goal attempts\n",
    "* PF: Personal fouls\n",
    "* PFD: Personal fouls drawn\n",
    "* PTS: Points+/- Plus-Minus\n",
    "\n",
    "**NOTE:** These are the columns on the public-facing view of the data. Our scrape gave us some extra units of analysis to look at, but we're going to start with what we have above.\n",
    "\n",
    "Here are my initial questions for this data: \n",
    "* How much does Trae impact 3 point attempts? Obviously he is going to be contribuiting a significant amount to those attempts  himself...\n",
    "* How do total assists change when Trae is in? \n",
    "* Points - easy but good baseline \n",
    "* Could I average each player's stats for when Trae is in their line up and when he is not? \n",
    "* Rebounds are interesting bc Trae has very little to do with that himself \n",
    "* Turnovers I think are less interesting because when Trae is in, he will handle the ball, so then this becomes just a personal stat\n",
    "* Blocked field goal attempts are interesting for the same reason as rebounds \n",
    "* Personal fouls drawn (lol)\n",
    "* Personal fouls "
   ]
  },
  {
   "cell_type": "code",
   "execution_count": 24,
   "id": "8e00f965",
   "metadata": {},
   "outputs": [
    {
     "data": {
      "text/plain": [
       "1.4423529411764706"
      ]
     },
     "execution_count": 24,
     "metadata": {},
     "output_type": "execute_result"
    }
   ],
   "source": [
    "df[df['trae'] == 0].ast.mean()"
   ]
  },
  {
   "cell_type": "code",
   "execution_count": 25,
   "id": "2577acb2",
   "metadata": {},
   "outputs": [
    {
     "data": {
      "text/plain": [
       "1.3727272727272728"
      ]
     },
     "execution_count": 25,
     "metadata": {},
     "output_type": "execute_result"
    }
   ],
   "source": [
    "df[df['trae'] == 1].ast.mean()"
   ]
  },
  {
   "cell_type": "code",
   "execution_count": 27,
   "id": "fac88894",
   "metadata": {},
   "outputs": [
    {
     "data": {
      "text/plain": [
       "6.364705882352941"
      ]
     },
     "execution_count": 27,
     "metadata": {},
     "output_type": "execute_result"
    }
   ],
   "source": [
    "df[df['trae'] == 0].pts.mean()"
   ]
  },
  {
   "cell_type": "code",
   "execution_count": 28,
   "id": "31d59cb9",
   "metadata": {},
   "outputs": [
    {
     "data": {
      "text/plain": [
       "6.749431818181819"
      ]
     },
     "execution_count": 28,
     "metadata": {},
     "output_type": "execute_result"
    }
   ],
   "source": [
    "df[df['trae'] == 1].pts.mean()"
   ]
  },
  {
   "cell_type": "code",
   "execution_count": 29,
   "id": "18dff1ee",
   "metadata": {},
   "outputs": [
    {
     "data": {
      "text/plain": [
       "2.8323529411764707"
      ]
     },
     "execution_count": 29,
     "metadata": {},
     "output_type": "execute_result"
    }
   ],
   "source": [
    "df[df['trae'] == 0].reb.mean()"
   ]
  },
  {
   "cell_type": "code",
   "execution_count": 30,
   "id": "c8c1c110",
   "metadata": {},
   "outputs": [
    {
     "data": {
      "text/plain": [
       "2.585227272727273"
      ]
     },
     "execution_count": 30,
     "metadata": {},
     "output_type": "execute_result"
    }
   ],
   "source": [
    "df[df['trae'] == 1].reb.mean()"
   ]
  },
  {
   "cell_type": "code",
   "execution_count": 34,
   "id": "5297c6af",
   "metadata": {},
   "outputs": [
    {
     "data": {
      "text/plain": [
       "count                                                   346\n",
       "unique                                                  346\n",
       "top       C. Capela - B. Bogdanovic - D. Wright - J. Col...\n",
       "freq                                                      1\n",
       "Name: group_name, dtype: object"
      ]
     },
     "execution_count": 34,
     "metadata": {},
     "output_type": "execute_result"
    }
   ],
   "source": [
    "df.group_name.describe()"
   ]
  },
  {
   "cell_type": "code",
   "execution_count": null,
   "id": "b33dc2e0",
   "metadata": {},
   "outputs": [],
   "source": []
  },
  {
   "cell_type": "code",
   "execution_count": null,
   "id": "2acaf6ec",
   "metadata": {},
   "outputs": [],
   "source": []
  },
  {
   "cell_type": "markdown",
   "id": "b7f4930d",
   "metadata": {},
   "source": [
    "# Switching to 2-player lineups"
   ]
  },
  {
   "cell_type": "code",
   "execution_count": 189,
   "id": "7f601a66",
   "metadata": {},
   "outputs": [
    {
     "data": {
      "text/html": [
       "<div>\n",
       "<style scoped>\n",
       "    .dataframe tbody tr th:only-of-type {\n",
       "        vertical-align: middle;\n",
       "    }\n",
       "\n",
       "    .dataframe tbody tr th {\n",
       "        vertical-align: top;\n",
       "    }\n",
       "\n",
       "    .dataframe thead th {\n",
       "        text-align: right;\n",
       "    }\n",
       "</style>\n",
       "<table border=\"1\" class=\"dataframe\">\n",
       "  <thead>\n",
       "    <tr style=\"text-align: right;\">\n",
       "      <th></th>\n",
       "      <th>group_name</th>\n",
       "      <th>team_abbreviation</th>\n",
       "      <th>gp</th>\n",
       "      <th>w</th>\n",
       "      <th>l</th>\n",
       "      <th>w_pct</th>\n",
       "      <th>min</th>\n",
       "      <th>fgm</th>\n",
       "      <th>fga</th>\n",
       "      <th>fg_pct</th>\n",
       "      <th>fg3m</th>\n",
       "      <th>fg3a</th>\n",
       "      <th>fg3_pct</th>\n",
       "      <th>ftm</th>\n",
       "      <th>fta</th>\n",
       "      <th>ft_pct</th>\n",
       "      <th>oreb</th>\n",
       "      <th>dreb</th>\n",
       "      <th>reb</th>\n",
       "      <th>ast</th>\n",
       "      <th>tov</th>\n",
       "      <th>stl</th>\n",
       "      <th>blk</th>\n",
       "      <th>blka</th>\n",
       "      <th>pf</th>\n",
       "      <th>pfd</th>\n",
       "      <th>pts</th>\n",
       "      <th>plus_minus</th>\n",
       "      <th>gp_rank</th>\n",
       "      <th>w_rank</th>\n",
       "      <th>l_rank</th>\n",
       "      <th>w_pct_rank</th>\n",
       "      <th>min_rank</th>\n",
       "      <th>fgm_rank</th>\n",
       "      <th>fga_rank</th>\n",
       "      <th>fg_pct_rank</th>\n",
       "      <th>fg3m_rank</th>\n",
       "      <th>fg3a_rank</th>\n",
       "      <th>fg3_pct_rank</th>\n",
       "      <th>ftm_rank</th>\n",
       "      <th>fta_rank</th>\n",
       "      <th>ft_pct_rank</th>\n",
       "      <th>oreb_rank</th>\n",
       "      <th>dreb_rank</th>\n",
       "      <th>reb_rank</th>\n",
       "      <th>ast_rank</th>\n",
       "      <th>tov_rank</th>\n",
       "      <th>stl_rank</th>\n",
       "      <th>blk_rank</th>\n",
       "      <th>blka_rank</th>\n",
       "      <th>pf_rank</th>\n",
       "      <th>pfd_rank</th>\n",
       "      <th>pts_rank</th>\n",
       "      <th>plus_minus_rank</th>\n",
       "    </tr>\n",
       "  </thead>\n",
       "  <tbody>\n",
       "    <tr>\n",
       "      <th>0</th>\n",
       "      <td>J. Collins - T. Young</td>\n",
       "      <td>ATL</td>\n",
       "      <td>46</td>\n",
       "      <td>23</td>\n",
       "      <td>23</td>\n",
       "      <td>0.500</td>\n",
       "      <td>27.9</td>\n",
       "      <td>25.1</td>\n",
       "      <td>51.8</td>\n",
       "      <td>0.484</td>\n",
       "      <td>7.0</td>\n",
       "      <td>18.8</td>\n",
       "      <td>0.370</td>\n",
       "      <td>9.7</td>\n",
       "      <td>12.4</td>\n",
       "      <td>0.784</td>\n",
       "      <td>5.8</td>\n",
       "      <td>20.0</td>\n",
       "      <td>25.8</td>\n",
       "      <td>15.1</td>\n",
       "      <td>7.1</td>\n",
       "      <td>3.8</td>\n",
       "      <td>2.8</td>\n",
       "      <td>2.7</td>\n",
       "      <td>10.8</td>\n",
       "      <td>11.9</td>\n",
       "      <td>66.8</td>\n",
       "      <td>1.5</td>\n",
       "      <td>3</td>\n",
       "      <td>3</td>\n",
       "      <td>199</td>\n",
       "      <td>75</td>\n",
       "      <td>1</td>\n",
       "      <td>1</td>\n",
       "      <td>2</td>\n",
       "      <td>68</td>\n",
       "      <td>4</td>\n",
       "      <td>2</td>\n",
       "      <td>111</td>\n",
       "      <td>7</td>\n",
       "      <td>5</td>\n",
       "      <td>123</td>\n",
       "      <td>7</td>\n",
       "      <td>1</td>\n",
       "      <td>2</td>\n",
       "      <td>1</td>\n",
       "      <td>201</td>\n",
       "      <td>3</td>\n",
       "      <td>3</td>\n",
       "      <td>196</td>\n",
       "      <td>200</td>\n",
       "      <td>2</td>\n",
       "      <td>1</td>\n",
       "      <td>57</td>\n",
       "    </tr>\n",
       "    <tr>\n",
       "      <th>1</th>\n",
       "      <td>T. Young - D. Hunter</td>\n",
       "      <td>ATL</td>\n",
       "      <td>29</td>\n",
       "      <td>14</td>\n",
       "      <td>15</td>\n",
       "      <td>0.483</td>\n",
       "      <td>26.9</td>\n",
       "      <td>23.9</td>\n",
       "      <td>49.2</td>\n",
       "      <td>0.486</td>\n",
       "      <td>6.6</td>\n",
       "      <td>17.6</td>\n",
       "      <td>0.377</td>\n",
       "      <td>9.8</td>\n",
       "      <td>12.4</td>\n",
       "      <td>0.794</td>\n",
       "      <td>5.4</td>\n",
       "      <td>18.4</td>\n",
       "      <td>23.9</td>\n",
       "      <td>14.0</td>\n",
       "      <td>7.2</td>\n",
       "      <td>3.7</td>\n",
       "      <td>2.5</td>\n",
       "      <td>2.7</td>\n",
       "      <td>10.9</td>\n",
       "      <td>12.0</td>\n",
       "      <td>64.3</td>\n",
       "      <td>-0.5</td>\n",
       "      <td>24</td>\n",
       "      <td>25</td>\n",
       "      <td>178</td>\n",
       "      <td>102</td>\n",
       "      <td>2</td>\n",
       "      <td>2</td>\n",
       "      <td>5</td>\n",
       "      <td>65</td>\n",
       "      <td>5</td>\n",
       "      <td>4</td>\n",
       "      <td>101</td>\n",
       "      <td>6</td>\n",
       "      <td>4</td>\n",
       "      <td>116</td>\n",
       "      <td>9</td>\n",
       "      <td>3</td>\n",
       "      <td>3</td>\n",
       "      <td>2</td>\n",
       "      <td>202</td>\n",
       "      <td>5</td>\n",
       "      <td>5</td>\n",
       "      <td>195</td>\n",
       "      <td>201</td>\n",
       "      <td>1</td>\n",
       "      <td>5</td>\n",
       "      <td>121</td>\n",
       "    </tr>\n",
       "    <tr>\n",
       "      <th>2</th>\n",
       "      <td>L. Williams - W. Iwundu</td>\n",
       "      <td>ATL</td>\n",
       "      <td>1</td>\n",
       "      <td>1</td>\n",
       "      <td>0</td>\n",
       "      <td>1.000</td>\n",
       "      <td>26.5</td>\n",
       "      <td>22.0</td>\n",
       "      <td>53.0</td>\n",
       "      <td>0.415</td>\n",
       "      <td>7.0</td>\n",
       "      <td>20.0</td>\n",
       "      <td>0.350</td>\n",
       "      <td>15.0</td>\n",
       "      <td>17.0</td>\n",
       "      <td>0.882</td>\n",
       "      <td>8.0</td>\n",
       "      <td>15.0</td>\n",
       "      <td>23.0</td>\n",
       "      <td>9.0</td>\n",
       "      <td>1.0</td>\n",
       "      <td>2.0</td>\n",
       "      <td>3.0</td>\n",
       "      <td>5.0</td>\n",
       "      <td>13.0</td>\n",
       "      <td>10.0</td>\n",
       "      <td>66.0</td>\n",
       "      <td>1.0</td>\n",
       "      <td>165</td>\n",
       "      <td>122</td>\n",
       "      <td>1</td>\n",
       "      <td>1</td>\n",
       "      <td>3</td>\n",
       "      <td>6</td>\n",
       "      <td>1</td>\n",
       "      <td>141</td>\n",
       "      <td>3</td>\n",
       "      <td>1</td>\n",
       "      <td>138</td>\n",
       "      <td>1</td>\n",
       "      <td>1</td>\n",
       "      <td>47</td>\n",
       "      <td>1</td>\n",
       "      <td>16</td>\n",
       "      <td>7</td>\n",
       "      <td>21</td>\n",
       "      <td>33</td>\n",
       "      <td>29</td>\n",
       "      <td>1</td>\n",
       "      <td>204</td>\n",
       "      <td>203</td>\n",
       "      <td>7</td>\n",
       "      <td>2</td>\n",
       "      <td>64</td>\n",
       "    </tr>\n",
       "    <tr>\n",
       "      <th>3</th>\n",
       "      <td>C. Capela - T. Young</td>\n",
       "      <td>ATL</td>\n",
       "      <td>47</td>\n",
       "      <td>24</td>\n",
       "      <td>23</td>\n",
       "      <td>0.511</td>\n",
       "      <td>24.9</td>\n",
       "      <td>23.1</td>\n",
       "      <td>47.6</td>\n",
       "      <td>0.486</td>\n",
       "      <td>6.5</td>\n",
       "      <td>16.9</td>\n",
       "      <td>0.384</td>\n",
       "      <td>8.4</td>\n",
       "      <td>10.8</td>\n",
       "      <td>0.774</td>\n",
       "      <td>5.9</td>\n",
       "      <td>17.9</td>\n",
       "      <td>23.9</td>\n",
       "      <td>13.3</td>\n",
       "      <td>6.2</td>\n",
       "      <td>3.7</td>\n",
       "      <td>2.3</td>\n",
       "      <td>2.6</td>\n",
       "      <td>9.8</td>\n",
       "      <td>10.1</td>\n",
       "      <td>61.1</td>\n",
       "      <td>1.1</td>\n",
       "      <td>2</td>\n",
       "      <td>1</td>\n",
       "      <td>199</td>\n",
       "      <td>74</td>\n",
       "      <td>5</td>\n",
       "      <td>3</td>\n",
       "      <td>7</td>\n",
       "      <td>66</td>\n",
       "      <td>6</td>\n",
       "      <td>6</td>\n",
       "      <td>94</td>\n",
       "      <td>12</td>\n",
       "      <td>9</td>\n",
       "      <td>131</td>\n",
       "      <td>6</td>\n",
       "      <td>5</td>\n",
       "      <td>4</td>\n",
       "      <td>3</td>\n",
       "      <td>199</td>\n",
       "      <td>4</td>\n",
       "      <td>8</td>\n",
       "      <td>194</td>\n",
       "      <td>199</td>\n",
       "      <td>5</td>\n",
       "      <td>6</td>\n",
       "      <td>63</td>\n",
       "    </tr>\n",
       "    <tr>\n",
       "      <th>4</th>\n",
       "      <td>C. Capela - W. Iwundu</td>\n",
       "      <td>ATL</td>\n",
       "      <td>2</td>\n",
       "      <td>1</td>\n",
       "      <td>1</td>\n",
       "      <td>0.500</td>\n",
       "      <td>24.9</td>\n",
       "      <td>23.0</td>\n",
       "      <td>50.5</td>\n",
       "      <td>0.455</td>\n",
       "      <td>8.0</td>\n",
       "      <td>18.5</td>\n",
       "      <td>0.432</td>\n",
       "      <td>11.0</td>\n",
       "      <td>12.0</td>\n",
       "      <td>0.917</td>\n",
       "      <td>7.5</td>\n",
       "      <td>15.5</td>\n",
       "      <td>23.0</td>\n",
       "      <td>12.0</td>\n",
       "      <td>2.0</td>\n",
       "      <td>4.0</td>\n",
       "      <td>2.0</td>\n",
       "      <td>4.5</td>\n",
       "      <td>9.0</td>\n",
       "      <td>10.5</td>\n",
       "      <td>65.0</td>\n",
       "      <td>4.5</td>\n",
       "      <td>135</td>\n",
       "      <td>122</td>\n",
       "      <td>30</td>\n",
       "      <td>75</td>\n",
       "      <td>4</td>\n",
       "      <td>4</td>\n",
       "      <td>3</td>\n",
       "      <td>92</td>\n",
       "      <td>1</td>\n",
       "      <td>3</td>\n",
       "      <td>51</td>\n",
       "      <td>4</td>\n",
       "      <td>6</td>\n",
       "      <td>31</td>\n",
       "      <td>2</td>\n",
       "      <td>14</td>\n",
       "      <td>7</td>\n",
       "      <td>7</td>\n",
       "      <td>103</td>\n",
       "      <td>1</td>\n",
       "      <td>13</td>\n",
       "      <td>202</td>\n",
       "      <td>195</td>\n",
       "      <td>4</td>\n",
       "      <td>3</td>\n",
       "      <td>18</td>\n",
       "    </tr>\n",
       "  </tbody>\n",
       "</table>\n",
       "</div>"
      ],
      "text/plain": [
       "                group_name team_abbreviation  gp   w   l  w_pct   min   fgm  \\\n",
       "0    J. Collins - T. Young               ATL  46  23  23  0.500  27.9  25.1   \n",
       "1     T. Young - D. Hunter               ATL  29  14  15  0.483  26.9  23.9   \n",
       "2  L. Williams - W. Iwundu               ATL   1   1   0  1.000  26.5  22.0   \n",
       "3     C. Capela - T. Young               ATL  47  24  23  0.511  24.9  23.1   \n",
       "4    C. Capela - W. Iwundu               ATL   2   1   1  0.500  24.9  23.0   \n",
       "\n",
       "    fga  fg_pct  fg3m  fg3a  fg3_pct   ftm   fta  ft_pct  oreb  dreb   reb  \\\n",
       "0  51.8   0.484   7.0  18.8    0.370   9.7  12.4   0.784   5.8  20.0  25.8   \n",
       "1  49.2   0.486   6.6  17.6    0.377   9.8  12.4   0.794   5.4  18.4  23.9   \n",
       "2  53.0   0.415   7.0  20.0    0.350  15.0  17.0   0.882   8.0  15.0  23.0   \n",
       "3  47.6   0.486   6.5  16.9    0.384   8.4  10.8   0.774   5.9  17.9  23.9   \n",
       "4  50.5   0.455   8.0  18.5    0.432  11.0  12.0   0.917   7.5  15.5  23.0   \n",
       "\n",
       "    ast  tov  stl  blk  blka    pf   pfd   pts  plus_minus  gp_rank  w_rank  \\\n",
       "0  15.1  7.1  3.8  2.8   2.7  10.8  11.9  66.8         1.5        3       3   \n",
       "1  14.0  7.2  3.7  2.5   2.7  10.9  12.0  64.3        -0.5       24      25   \n",
       "2   9.0  1.0  2.0  3.0   5.0  13.0  10.0  66.0         1.0      165     122   \n",
       "3  13.3  6.2  3.7  2.3   2.6   9.8  10.1  61.1         1.1        2       1   \n",
       "4  12.0  2.0  4.0  2.0   4.5   9.0  10.5  65.0         4.5      135     122   \n",
       "\n",
       "   l_rank  w_pct_rank  min_rank  fgm_rank  fga_rank  fg_pct_rank  fg3m_rank  \\\n",
       "0     199          75         1         1         2           68          4   \n",
       "1     178         102         2         2         5           65          5   \n",
       "2       1           1         3         6         1          141          3   \n",
       "3     199          74         5         3         7           66          6   \n",
       "4      30          75         4         4         3           92          1   \n",
       "\n",
       "   fg3a_rank  fg3_pct_rank  ftm_rank  fta_rank  ft_pct_rank  oreb_rank  \\\n",
       "0          2           111         7         5          123          7   \n",
       "1          4           101         6         4          116          9   \n",
       "2          1           138         1         1           47          1   \n",
       "3          6            94        12         9          131          6   \n",
       "4          3            51         4         6           31          2   \n",
       "\n",
       "   dreb_rank  reb_rank  ast_rank  tov_rank  stl_rank  blk_rank  blka_rank  \\\n",
       "0          1         2         1       201         3         3        196   \n",
       "1          3         3         2       202         5         5        195   \n",
       "2         16         7        21        33        29         1        204   \n",
       "3          5         4         3       199         4         8        194   \n",
       "4         14         7         7       103         1        13        202   \n",
       "\n",
       "   pf_rank  pfd_rank  pts_rank  plus_minus_rank  \n",
       "0      200         2         1               57  \n",
       "1      201         1         5              121  \n",
       "2      203         7         2               64  \n",
       "3      199         5         6               63  \n",
       "4      195         4         3               18  "
      ]
     },
     "execution_count": 189,
     "metadata": {},
     "output_type": "execute_result"
    }
   ],
   "source": [
    "df = pd.read_csv(\"../data/processed/2122_lineups/two_player_lineups_2122.csv\")\n",
    "\n",
    "pd.set_option('display.max_columns', None)\n",
    "pd.set_option('display.max_rows', None)\n",
    "\n",
    "df.head()"
   ]
  },
  {
   "cell_type": "markdown",
   "id": "97143958",
   "metadata": {},
   "source": [
    "### Creating Trae Young boolean"
   ]
  },
  {
   "cell_type": "code",
   "execution_count": 190,
   "id": "4668147a",
   "metadata": {},
   "outputs": [
    {
     "data": {
      "text/plain": [
       "0    182\n",
       "1     22\n",
       "Name: trae, dtype: int64"
      ]
     },
     "execution_count": 190,
     "metadata": {},
     "output_type": "execute_result"
    }
   ],
   "source": [
    "df['trae'] = (df.group_name.str.contains('T. Young', na=False) == True) \n",
    "df.head()\n",
    "#df['trae'].value_counts()\n",
    "df['trae'] = df['trae'].astype(int)\n",
    "df['trae'].value_counts()"
   ]
  },
  {
   "cell_type": "code",
   "execution_count": 191,
   "id": "48d8426a",
   "metadata": {},
   "outputs": [
    {
     "data": {
      "text/plain": [
       "False    0.892157\n",
       "True     0.107843\n",
       "Name: group_name, dtype: float64"
      ]
     },
     "execution_count": 191,
     "metadata": {},
     "output_type": "execute_result"
    }
   ],
   "source": [
    "df.group_name.str.contains('T. Young', na=False).value_counts(normalize=True)\n",
    "# Young is in roughly 11% of the Hawk's player pairings"
   ]
  },
  {
   "cell_type": "markdown",
   "id": "8f0ff9a2",
   "metadata": {},
   "source": [
    "### Looking at some averages between the two pairings\n",
    "\n",
    "**Up first:** Rebounds"
   ]
  },
  {
   "cell_type": "code",
   "execution_count": 91,
   "id": "efffb9d9",
   "metadata": {},
   "outputs": [
    {
     "data": {
      "text/plain": [
       "7.592307692307692"
      ]
     },
     "execution_count": 91,
     "metadata": {},
     "output_type": "execute_result"
    }
   ],
   "source": [
    "df[df['trae'] == 0].reb.mean()"
   ]
  },
  {
   "cell_type": "code",
   "execution_count": 52,
   "id": "12389f5b",
   "metadata": {},
   "outputs": [
    {
     "data": {
      "text/plain": [
       "11.913636363636364"
      ]
     },
     "execution_count": 52,
     "metadata": {},
     "output_type": "execute_result"
    }
   ],
   "source": [
    "df[df['trae'] == 1].reb.mean()"
   ]
  },
  {
   "cell_type": "markdown",
   "id": "658d0c84",
   "metadata": {},
   "source": [
    "**Points**"
   ]
  },
  {
   "cell_type": "code",
   "execution_count": 53,
   "id": "627e1ece",
   "metadata": {},
   "outputs": [
    {
     "data": {
      "text/plain": [
       "18.883516483516484"
      ]
     },
     "execution_count": 53,
     "metadata": {},
     "output_type": "execute_result"
    }
   ],
   "source": [
    "df[df['trae'] == 0].pts.mean()"
   ]
  },
  {
   "cell_type": "code",
   "execution_count": 54,
   "id": "a4a8e197",
   "metadata": {},
   "outputs": [
    {
     "data": {
      "text/plain": [
       "32.53181818181818"
      ]
     },
     "execution_count": 54,
     "metadata": {},
     "output_type": "execute_result"
    }
   ],
   "source": [
    "df[df['trae'] == 1].pts.mean()\n",
    "# Trae almost doubles the pairs' points output "
   ]
  },
  {
   "cell_type": "code",
   "execution_count": 74,
   "id": "0eab8ddc",
   "metadata": {},
   "outputs": [
    {
     "data": {
      "text/plain": [
       "<AxesSubplot:ylabel='trae'>"
      ]
     },
     "execution_count": 74,
     "metadata": {},
     "output_type": "execute_result"
    },
    {
     "data": {
      "image/png": "[encoded data removed]",
      "text/plain": [
       "<Figure size 432x288 with 1 Axes>"
      ]
     },
     "metadata": {
      "needs_background": "light"
     },
     "output_type": "display_data"
    }
   ],
   "source": [
    "df.plot(kind='barh', x='trae', y='pts')"
   ]
  },
  {
   "cell_type": "markdown",
   "id": "ccb92b13",
   "metadata": {},
   "source": [
    "**Assists:**\n",
    "* With: avg. assists = 6.76\n",
    "* Without: avg. assists = 4.04\n",
    "* Overall: avg. assists = 4.33"
   ]
  },
  {
   "cell_type": "code",
   "execution_count": 55,
   "id": "be2ceea1",
   "metadata": {},
   "outputs": [
    {
     "data": {
      "text/plain": [
       "4.035164835164835"
      ]
     },
     "execution_count": 55,
     "metadata": {},
     "output_type": "execute_result"
    }
   ],
   "source": [
    "df[df['trae'] == 0].ast.mean()"
   ]
  },
  {
   "cell_type": "code",
   "execution_count": 56,
   "id": "9fea2f40",
   "metadata": {},
   "outputs": [
    {
     "data": {
      "text/plain": [
       "6.75909090909091"
      ]
     },
     "execution_count": 56,
     "metadata": {},
     "output_type": "execute_result"
    }
   ],
   "source": [
    "df[df['trae'] == 1].ast.mean()"
   ]
  },
  {
   "cell_type": "code",
   "execution_count": 84,
   "id": "01913637",
   "metadata": {},
   "outputs": [
    {
     "data": {
      "text/plain": [
       "4.328921568627451"
      ]
     },
     "execution_count": 84,
     "metadata": {},
     "output_type": "execute_result"
    }
   ],
   "source": [
    "df.ast.mean()"
   ]
  },
  {
   "cell_type": "code",
   "execution_count": 78,
   "id": "b1287469",
   "metadata": {},
   "outputs": [
    {
     "data": {
      "text/plain": [
       "array([<AxesSubplot:title={'center':'gp'}>,\n",
       "       <AxesSubplot:title={'center':'w'}>,\n",
       "       <AxesSubplot:title={'center':'l'}>,\n",
       "       <AxesSubplot:title={'center':'w_pct'}>,\n",
       "       <AxesSubplot:title={'center':'min'}>,\n",
       "       <AxesSubplot:title={'center':'fgm'}>,\n",
       "       <AxesSubplot:title={'center':'fga'}>,\n",
       "       <AxesSubplot:title={'center':'fg_pct'}>,\n",
       "       <AxesSubplot:title={'center':'fg3m'}>,\n",
       "       <AxesSubplot:title={'center':'fg3a'}>,\n",
       "       <AxesSubplot:title={'center':'fg3_pct'}>,\n",
       "       <AxesSubplot:title={'center':'ftm'}>,\n",
       "       <AxesSubplot:title={'center':'fta'}>,\n",
       "       <AxesSubplot:title={'center':'ft_pct'}>,\n",
       "       <AxesSubplot:title={'center':'oreb'}>,\n",
       "       <AxesSubplot:title={'center':'dreb'}>,\n",
       "       <AxesSubplot:title={'center':'reb'}>,\n",
       "       <AxesSubplot:title={'center':'ast'}>,\n",
       "       <AxesSubplot:title={'center':'tov'}>,\n",
       "       <AxesSubplot:title={'center':'stl'}>,\n",
       "       <AxesSubplot:title={'center':'blk'}>,\n",
       "       <AxesSubplot:title={'center':'blka'}>,\n",
       "       <AxesSubplot:title={'center':'pf'}>,\n",
       "       <AxesSubplot:title={'center':'pfd'}>,\n",
       "       <AxesSubplot:title={'center':'pts'}>,\n",
       "       <AxesSubplot:title={'center':'plus_minus'}>,\n",
       "       <AxesSubplot:title={'center':'gp_rank'}>,\n",
       "       <AxesSubplot:title={'center':'w_rank'}>,\n",
       "       <AxesSubplot:title={'center':'l_rank'}>,\n",
       "       <AxesSubplot:title={'center':'w_pct_rank'}>,\n",
       "       <AxesSubplot:title={'center':'min_rank'}>,\n",
       "       <AxesSubplot:title={'center':'fgm_rank'}>,\n",
       "       <AxesSubplot:title={'center':'fga_rank'}>,\n",
       "       <AxesSubplot:title={'center':'fg_pct_rank'}>,\n",
       "       <AxesSubplot:title={'center':'fg3m_rank'}>,\n",
       "       <AxesSubplot:title={'center':'fg3a_rank'}>,\n",
       "       <AxesSubplot:title={'center':'fg3_pct_rank'}>,\n",
       "       <AxesSubplot:title={'center':'ftm_rank'}>,\n",
       "       <AxesSubplot:title={'center':'fta_rank'}>,\n",
       "       <AxesSubplot:title={'center':'ft_pct_rank'}>,\n",
       "       <AxesSubplot:title={'center':'oreb_rank'}>,\n",
       "       <AxesSubplot:title={'center':'dreb_rank'}>,\n",
       "       <AxesSubplot:title={'center':'reb_rank'}>,\n",
       "       <AxesSubplot:title={'center':'ast_rank'}>,\n",
       "       <AxesSubplot:title={'center':'tov_rank'}>,\n",
       "       <AxesSubplot:title={'center':'stl_rank'}>,\n",
       "       <AxesSubplot:title={'center':'blk_rank'}>,\n",
       "       <AxesSubplot:title={'center':'blka_rank'}>,\n",
       "       <AxesSubplot:title={'center':'pf_rank'}>,\n",
       "       <AxesSubplot:title={'center':'pfd_rank'}>,\n",
       "       <AxesSubplot:title={'center':'pts_rank'}>,\n",
       "       <AxesSubplot:title={'center':'plus_minus_rank'}>,\n",
       "       <AxesSubplot:title={'center':'trae'}>], dtype=object)"
      ]
     },
     "execution_count": 78,
     "metadata": {},
     "output_type": "execute_result"
    },
    {
     "data": {
      "image/png": "[encoded data removed]",
      "text/plain": [
       "<Figure size 432x288 with 53 Axes>"
      ]
     },
     "metadata": {
      "needs_background": "light"
     },
     "output_type": "display_data"
    }
   ],
   "source": [
    "#df.plot(kind='barh', subplots='trae')"
   ]
  },
  {
   "cell_type": "code",
   "execution_count": 89,
   "id": "4c4937d2",
   "metadata": {},
   "outputs": [
    {
     "data": {
      "text/plain": [
       "<seaborn.axisgrid.PairGrid at 0x130a4a4d0>"
      ]
     },
     "execution_count": 89,
     "metadata": {},
     "output_type": "execute_result"
    },
    {
     "data": {
      "image/png": "[encoded data removed]",
      "text/plain": [
       "<Figure size 360x360 with 6 Axes>"
      ]
     },
     "metadata": {
      "needs_background": "light"
     },
     "output_type": "display_data"
    }
   ],
   "source": [
    "import seaborn as sns\n",
    "#sns.pairplot(df)\n",
    "#sns.countplot(x=\"variable\", hue=\"value\", data=pd.melt(df3))\n",
    "sns.pairplot(data=df, vars=['trae', 'ast'])"
   ]
  },
  {
   "cell_type": "code",
   "execution_count": null,
   "id": "53e91725",
   "metadata": {},
   "outputs": [],
   "source": [
    "sns.set_theme(style=\"ticks\", palette=\"pastel\")\n",
    "\n",
    "# Load the example tips dataset\n",
    "tips = sns.load_dataset(\"tips\")\n",
    "\n",
    "# Draw a nested boxplot to show bills by day and time\n",
    "sns.boxplot(x=\"day\", y=\"total_bill\",\n",
    "            hue=\"smoker\", palette=[\"m\", \"g\"],\n",
    "            data=tips)\n",
    "sns.despine(offset=10, trim=True)"
   ]
  },
  {
   "cell_type": "markdown",
   "id": "3797bcdf",
   "metadata": {},
   "source": [
    "**3-pointers attempted** "
   ]
  },
  {
   "cell_type": "code",
   "execution_count": 57,
   "id": "6b74c92a",
   "metadata": {},
   "outputs": [
    {
     "data": {
      "text/plain": [
       "5.675824175824176"
      ]
     },
     "execution_count": 57,
     "metadata": {},
     "output_type": "execute_result"
    }
   ],
   "source": [
    "df[df['trae'] == 0]['fg3a'].mean()"
   ]
  },
  {
   "cell_type": "code",
   "execution_count": 58,
   "id": "a16950de",
   "metadata": {},
   "outputs": [
    {
     "data": {
      "text/plain": [
       "9.345454545454546"
      ]
     },
     "execution_count": 58,
     "metadata": {},
     "output_type": "execute_result"
    }
   ],
   "source": [
    "df[df['trae'] == 1]['fg3a'].mean()"
   ]
  },
  {
   "cell_type": "markdown",
   "id": "efb4702a",
   "metadata": {},
   "source": [
    "**Field goal percent made** "
   ]
  },
  {
   "cell_type": "code",
   "execution_count": 59,
   "id": "95752829",
   "metadata": {},
   "outputs": [
    {
     "data": {
      "text/plain": [
       "0.4472032967032967"
      ]
     },
     "execution_count": 59,
     "metadata": {},
     "output_type": "execute_result"
    }
   ],
   "source": [
    "df[df['trae'] == 0].fg_pct.mean()"
   ]
  },
  {
   "cell_type": "code",
   "execution_count": 60,
   "id": "70111f61",
   "metadata": {},
   "outputs": [
    {
     "data": {
      "text/plain": [
       "0.4509090909090908"
      ]
     },
     "execution_count": 60,
     "metadata": {},
     "output_type": "execute_result"
    }
   ],
   "source": [
    "df[df['trae'] == 1].fg_pct.mean()"
   ]
  },
  {
   "cell_type": "markdown",
   "id": "f4ac6a37",
   "metadata": {},
   "source": [
    "**3-pointer percent made**"
   ]
  },
  {
   "cell_type": "code",
   "execution_count": 61,
   "id": "73fd0f08",
   "metadata": {},
   "outputs": [
    {
     "data": {
      "text/plain": [
       "0.38484615384615384"
      ]
     },
     "execution_count": 61,
     "metadata": {},
     "output_type": "execute_result"
    }
   ],
   "source": [
    "df[df['trae'] == 0].fg3_pct.mean()"
   ]
  },
  {
   "cell_type": "code",
   "execution_count": 62,
   "id": "c10f8607",
   "metadata": {},
   "outputs": [
    {
     "data": {
      "text/plain": [
       "0.3495909090909091"
      ]
     },
     "execution_count": 62,
     "metadata": {},
     "output_type": "execute_result"
    }
   ],
   "source": [
    "df[df['trae'] == 1].fg3_pct.mean()"
   ]
  },
  {
   "cell_type": "markdown",
   "id": "80ef2fb1",
   "metadata": {},
   "source": [
    "**Offensive rebounds**"
   ]
  },
  {
   "cell_type": "code",
   "execution_count": 64,
   "id": "2e1f6d6b",
   "metadata": {},
   "outputs": [
    {
     "data": {
      "text/plain": [
       "1.684065934065934"
      ]
     },
     "execution_count": 64,
     "metadata": {},
     "output_type": "execute_result"
    }
   ],
   "source": [
    "df[df['trae'] == 0].oreb.mean()"
   ]
  },
  {
   "cell_type": "code",
   "execution_count": 65,
   "id": "82cd95c7",
   "metadata": {},
   "outputs": [
    {
     "data": {
      "text/plain": [
       "2.795454545454545"
      ]
     },
     "execution_count": 65,
     "metadata": {},
     "output_type": "execute_result"
    }
   ],
   "source": [
    "df[df['trae'] == 1].oreb.mean()"
   ]
  },
  {
   "cell_type": "markdown",
   "id": "60d8fbfb",
   "metadata": {},
   "source": [
    "**Defensive rebounds**"
   ]
  },
  {
   "cell_type": "code",
   "execution_count": 66,
   "id": "e7e20f00",
   "metadata": {},
   "outputs": [
    {
     "data": {
      "text/plain": [
       "5.907142857142857"
      ]
     },
     "execution_count": 66,
     "metadata": {},
     "output_type": "execute_result"
    }
   ],
   "source": [
    "df[df['trae'] == 0].dreb.mean()"
   ]
  },
  {
   "cell_type": "code",
   "execution_count": 67,
   "id": "d09349db",
   "metadata": {},
   "outputs": [
    {
     "data": {
      "text/plain": [
       "9.118181818181819"
      ]
     },
     "execution_count": 67,
     "metadata": {},
     "output_type": "execute_result"
    }
   ],
   "source": [
    "df[df['trae'] == 1].dreb.mean()"
   ]
  },
  {
   "cell_type": "code",
   "execution_count": null,
   "id": "60912e41",
   "metadata": {},
   "outputs": [],
   "source": [
    "# Compare avg as pairs with trae to individual averages\n",
    "# could do this for all kinds of line ups but start with pairs "
   ]
  },
  {
   "cell_type": "markdown",
   "id": "d586c919",
   "metadata": {},
   "source": [
    "# Comparing pairs with Trae in them "
   ]
  },
  {
   "cell_type": "code",
   "execution_count": 102,
   "id": "7e5c4e25",
   "metadata": {},
   "outputs": [],
   "source": [
    "# This creates a df with every player who has been on the Hawks during the 2021-22 season + Young\n",
    "df2 = df[df['trae'] == 1].reset_index()"
   ]
  },
  {
   "cell_type": "code",
   "execution_count": 104,
   "id": "3f546ce6",
   "metadata": {},
   "outputs": [
    {
     "name": "stderr",
     "output_type": "stream",
     "text": [
      "/var/folders/qx/nkh2pq6x3_193757ddxvrcf40000gp/T/ipykernel_65465/3775288115.py:1: FutureWarning: In a future version of pandas all arguments of DataFrame.drop except for the argument 'labels' will be keyword-only\n",
      "  df2 = df2.drop('index',1)\n"
     ]
    }
   ],
   "source": [
    "df2 = df2.drop('index',1)"
   ]
  },
  {
   "cell_type": "code",
   "execution_count": 105,
   "id": "0223097d",
   "metadata": {},
   "outputs": [
    {
     "data": {
      "text/html": [
       "<div>\n",
       "<style scoped>\n",
       "    .dataframe tbody tr th:only-of-type {\n",
       "        vertical-align: middle;\n",
       "    }\n",
       "\n",
       "    .dataframe tbody tr th {\n",
       "        vertical-align: top;\n",
       "    }\n",
       "\n",
       "    .dataframe thead th {\n",
       "        text-align: right;\n",
       "    }\n",
       "</style>\n",
       "<table border=\"1\" class=\"dataframe\">\n",
       "  <thead>\n",
       "    <tr style=\"text-align: right;\">\n",
       "      <th></th>\n",
       "      <th>group_name</th>\n",
       "      <th>team_abbreviation</th>\n",
       "      <th>gp</th>\n",
       "      <th>w</th>\n",
       "      <th>l</th>\n",
       "      <th>w_pct</th>\n",
       "      <th>min</th>\n",
       "      <th>fgm</th>\n",
       "      <th>fga</th>\n",
       "      <th>fg_pct</th>\n",
       "      <th>fg3m</th>\n",
       "      <th>fg3a</th>\n",
       "      <th>fg3_pct</th>\n",
       "      <th>ftm</th>\n",
       "      <th>fta</th>\n",
       "      <th>ft_pct</th>\n",
       "      <th>oreb</th>\n",
       "      <th>dreb</th>\n",
       "      <th>reb</th>\n",
       "      <th>ast</th>\n",
       "      <th>tov</th>\n",
       "      <th>stl</th>\n",
       "      <th>blk</th>\n",
       "      <th>blka</th>\n",
       "      <th>pf</th>\n",
       "      <th>pfd</th>\n",
       "      <th>pts</th>\n",
       "      <th>plus_minus</th>\n",
       "      <th>gp_rank</th>\n",
       "      <th>w_rank</th>\n",
       "      <th>l_rank</th>\n",
       "      <th>w_pct_rank</th>\n",
       "      <th>min_rank</th>\n",
       "      <th>fgm_rank</th>\n",
       "      <th>fga_rank</th>\n",
       "      <th>fg_pct_rank</th>\n",
       "      <th>fg3m_rank</th>\n",
       "      <th>fg3a_rank</th>\n",
       "      <th>fg3_pct_rank</th>\n",
       "      <th>ftm_rank</th>\n",
       "      <th>fta_rank</th>\n",
       "      <th>ft_pct_rank</th>\n",
       "      <th>oreb_rank</th>\n",
       "      <th>dreb_rank</th>\n",
       "      <th>reb_rank</th>\n",
       "      <th>ast_rank</th>\n",
       "      <th>tov_rank</th>\n",
       "      <th>stl_rank</th>\n",
       "      <th>blk_rank</th>\n",
       "      <th>blka_rank</th>\n",
       "      <th>pf_rank</th>\n",
       "      <th>pfd_rank</th>\n",
       "      <th>pts_rank</th>\n",
       "      <th>plus_minus_rank</th>\n",
       "      <th>trae</th>\n",
       "    </tr>\n",
       "  </thead>\n",
       "  <tbody>\n",
       "    <tr>\n",
       "      <th>0</th>\n",
       "      <td>J. Collins - T. Young</td>\n",
       "      <td>ATL</td>\n",
       "      <td>46</td>\n",
       "      <td>23</td>\n",
       "      <td>23</td>\n",
       "      <td>0.500</td>\n",
       "      <td>27.9</td>\n",
       "      <td>25.1</td>\n",
       "      <td>51.8</td>\n",
       "      <td>0.484</td>\n",
       "      <td>7.0</td>\n",
       "      <td>18.8</td>\n",
       "      <td>0.370</td>\n",
       "      <td>9.7</td>\n",
       "      <td>12.4</td>\n",
       "      <td>0.784</td>\n",
       "      <td>5.8</td>\n",
       "      <td>20.0</td>\n",
       "      <td>25.8</td>\n",
       "      <td>15.1</td>\n",
       "      <td>7.1</td>\n",
       "      <td>3.8</td>\n",
       "      <td>2.8</td>\n",
       "      <td>2.7</td>\n",
       "      <td>10.8</td>\n",
       "      <td>11.9</td>\n",
       "      <td>66.8</td>\n",
       "      <td>1.5</td>\n",
       "      <td>3</td>\n",
       "      <td>3</td>\n",
       "      <td>199</td>\n",
       "      <td>75</td>\n",
       "      <td>1</td>\n",
       "      <td>1</td>\n",
       "      <td>2</td>\n",
       "      <td>68</td>\n",
       "      <td>4</td>\n",
       "      <td>2</td>\n",
       "      <td>111</td>\n",
       "      <td>7</td>\n",
       "      <td>5</td>\n",
       "      <td>123</td>\n",
       "      <td>7</td>\n",
       "      <td>1</td>\n",
       "      <td>2</td>\n",
       "      <td>1</td>\n",
       "      <td>201</td>\n",
       "      <td>3</td>\n",
       "      <td>3</td>\n",
       "      <td>196</td>\n",
       "      <td>200</td>\n",
       "      <td>2</td>\n",
       "      <td>1</td>\n",
       "      <td>57</td>\n",
       "      <td>1</td>\n",
       "    </tr>\n",
       "    <tr>\n",
       "      <th>1</th>\n",
       "      <td>T. Young - D. Hunter</td>\n",
       "      <td>ATL</td>\n",
       "      <td>29</td>\n",
       "      <td>14</td>\n",
       "      <td>15</td>\n",
       "      <td>0.483</td>\n",
       "      <td>26.9</td>\n",
       "      <td>23.9</td>\n",
       "      <td>49.2</td>\n",
       "      <td>0.486</td>\n",
       "      <td>6.6</td>\n",
       "      <td>17.6</td>\n",
       "      <td>0.377</td>\n",
       "      <td>9.8</td>\n",
       "      <td>12.4</td>\n",
       "      <td>0.794</td>\n",
       "      <td>5.4</td>\n",
       "      <td>18.4</td>\n",
       "      <td>23.9</td>\n",
       "      <td>14.0</td>\n",
       "      <td>7.2</td>\n",
       "      <td>3.7</td>\n",
       "      <td>2.5</td>\n",
       "      <td>2.7</td>\n",
       "      <td>10.9</td>\n",
       "      <td>12.0</td>\n",
       "      <td>64.3</td>\n",
       "      <td>-0.5</td>\n",
       "      <td>24</td>\n",
       "      <td>25</td>\n",
       "      <td>178</td>\n",
       "      <td>102</td>\n",
       "      <td>2</td>\n",
       "      <td>2</td>\n",
       "      <td>5</td>\n",
       "      <td>65</td>\n",
       "      <td>5</td>\n",
       "      <td>4</td>\n",
       "      <td>101</td>\n",
       "      <td>6</td>\n",
       "      <td>4</td>\n",
       "      <td>116</td>\n",
       "      <td>9</td>\n",
       "      <td>3</td>\n",
       "      <td>3</td>\n",
       "      <td>2</td>\n",
       "      <td>202</td>\n",
       "      <td>5</td>\n",
       "      <td>5</td>\n",
       "      <td>195</td>\n",
       "      <td>201</td>\n",
       "      <td>1</td>\n",
       "      <td>5</td>\n",
       "      <td>121</td>\n",
       "      <td>1</td>\n",
       "    </tr>\n",
       "    <tr>\n",
       "      <th>2</th>\n",
       "      <td>C. Capela - T. Young</td>\n",
       "      <td>ATL</td>\n",
       "      <td>47</td>\n",
       "      <td>24</td>\n",
       "      <td>23</td>\n",
       "      <td>0.511</td>\n",
       "      <td>24.9</td>\n",
       "      <td>23.1</td>\n",
       "      <td>47.6</td>\n",
       "      <td>0.486</td>\n",
       "      <td>6.5</td>\n",
       "      <td>16.9</td>\n",
       "      <td>0.384</td>\n",
       "      <td>8.4</td>\n",
       "      <td>10.8</td>\n",
       "      <td>0.774</td>\n",
       "      <td>5.9</td>\n",
       "      <td>17.9</td>\n",
       "      <td>23.9</td>\n",
       "      <td>13.3</td>\n",
       "      <td>6.2</td>\n",
       "      <td>3.7</td>\n",
       "      <td>2.3</td>\n",
       "      <td>2.6</td>\n",
       "      <td>9.8</td>\n",
       "      <td>10.1</td>\n",
       "      <td>61.1</td>\n",
       "      <td>1.1</td>\n",
       "      <td>2</td>\n",
       "      <td>1</td>\n",
       "      <td>199</td>\n",
       "      <td>74</td>\n",
       "      <td>5</td>\n",
       "      <td>3</td>\n",
       "      <td>7</td>\n",
       "      <td>66</td>\n",
       "      <td>6</td>\n",
       "      <td>6</td>\n",
       "      <td>94</td>\n",
       "      <td>12</td>\n",
       "      <td>9</td>\n",
       "      <td>131</td>\n",
       "      <td>6</td>\n",
       "      <td>5</td>\n",
       "      <td>4</td>\n",
       "      <td>3</td>\n",
       "      <td>199</td>\n",
       "      <td>4</td>\n",
       "      <td>8</td>\n",
       "      <td>194</td>\n",
       "      <td>199</td>\n",
       "      <td>5</td>\n",
       "      <td>6</td>\n",
       "      <td>63</td>\n",
       "      <td>1</td>\n",
       "    </tr>\n",
       "    <tr>\n",
       "      <th>3</th>\n",
       "      <td>W. Iwundu - T. Young</td>\n",
       "      <td>ATL</td>\n",
       "      <td>2</td>\n",
       "      <td>1</td>\n",
       "      <td>1</td>\n",
       "      <td>0.500</td>\n",
       "      <td>24.7</td>\n",
       "      <td>22.5</td>\n",
       "      <td>49.5</td>\n",
       "      <td>0.455</td>\n",
       "      <td>7.5</td>\n",
       "      <td>17.5</td>\n",
       "      <td>0.429</td>\n",
       "      <td>12.5</td>\n",
       "      <td>13.5</td>\n",
       "      <td>0.926</td>\n",
       "      <td>7.5</td>\n",
       "      <td>16.0</td>\n",
       "      <td>23.5</td>\n",
       "      <td>11.5</td>\n",
       "      <td>2.5</td>\n",
       "      <td>4.0</td>\n",
       "      <td>2.5</td>\n",
       "      <td>4.5</td>\n",
       "      <td>9.5</td>\n",
       "      <td>11.0</td>\n",
       "      <td>65.0</td>\n",
       "      <td>5.0</td>\n",
       "      <td>135</td>\n",
       "      <td>122</td>\n",
       "      <td>30</td>\n",
       "      <td>75</td>\n",
       "      <td>6</td>\n",
       "      <td>5</td>\n",
       "      <td>4</td>\n",
       "      <td>97</td>\n",
       "      <td>2</td>\n",
       "      <td>5</td>\n",
       "      <td>53</td>\n",
       "      <td>2</td>\n",
       "      <td>3</td>\n",
       "      <td>29</td>\n",
       "      <td>2</td>\n",
       "      <td>9</td>\n",
       "      <td>6</td>\n",
       "      <td>11</td>\n",
       "      <td>142</td>\n",
       "      <td>1</td>\n",
       "      <td>6</td>\n",
       "      <td>202</td>\n",
       "      <td>197</td>\n",
       "      <td>3</td>\n",
       "      <td>3</td>\n",
       "      <td>13</td>\n",
       "      <td>1</td>\n",
       "    </tr>\n",
       "    <tr>\n",
       "      <th>4</th>\n",
       "      <td>B. Bogdanovic - T. Young</td>\n",
       "      <td>ATL</td>\n",
       "      <td>36</td>\n",
       "      <td>18</td>\n",
       "      <td>18</td>\n",
       "      <td>0.500</td>\n",
       "      <td>23.7</td>\n",
       "      <td>21.1</td>\n",
       "      <td>44.3</td>\n",
       "      <td>0.477</td>\n",
       "      <td>5.9</td>\n",
       "      <td>16.1</td>\n",
       "      <td>0.367</td>\n",
       "      <td>8.3</td>\n",
       "      <td>10.2</td>\n",
       "      <td>0.812</td>\n",
       "      <td>5.0</td>\n",
       "      <td>16.8</td>\n",
       "      <td>21.7</td>\n",
       "      <td>12.1</td>\n",
       "      <td>5.8</td>\n",
       "      <td>3.6</td>\n",
       "      <td>2.0</td>\n",
       "      <td>2.4</td>\n",
       "      <td>8.6</td>\n",
       "      <td>9.8</td>\n",
       "      <td>56.4</td>\n",
       "      <td>0.6</td>\n",
       "      <td>14</td>\n",
       "      <td>17</td>\n",
       "      <td>190</td>\n",
       "      <td>75</td>\n",
       "      <td>8</td>\n",
       "      <td>8</td>\n",
       "      <td>9</td>\n",
       "      <td>74</td>\n",
       "      <td>12</td>\n",
       "      <td>8</td>\n",
       "      <td>118</td>\n",
       "      <td>13</td>\n",
       "      <td>11</td>\n",
       "      <td>99</td>\n",
       "      <td>11</td>\n",
       "      <td>6</td>\n",
       "      <td>10</td>\n",
       "      <td>6</td>\n",
       "      <td>194</td>\n",
       "      <td>6</td>\n",
       "      <td>13</td>\n",
       "      <td>192</td>\n",
       "      <td>193</td>\n",
       "      <td>8</td>\n",
       "      <td>8</td>\n",
       "      <td>78</td>\n",
       "      <td>1</td>\n",
       "    </tr>\n",
       "  </tbody>\n",
       "</table>\n",
       "</div>"
      ],
      "text/plain": [
       "                 group_name team_abbreviation  gp   w   l  w_pct   min   fgm  \\\n",
       "0     J. Collins - T. Young               ATL  46  23  23  0.500  27.9  25.1   \n",
       "1      T. Young - D. Hunter               ATL  29  14  15  0.483  26.9  23.9   \n",
       "2      C. Capela - T. Young               ATL  47  24  23  0.511  24.9  23.1   \n",
       "3      W. Iwundu - T. Young               ATL   2   1   1  0.500  24.7  22.5   \n",
       "4  B. Bogdanovic - T. Young               ATL  36  18  18  0.500  23.7  21.1   \n",
       "\n",
       "    fga  fg_pct  fg3m  fg3a  fg3_pct   ftm   fta  ft_pct  oreb  dreb   reb  \\\n",
       "0  51.8   0.484   7.0  18.8    0.370   9.7  12.4   0.784   5.8  20.0  25.8   \n",
       "1  49.2   0.486   6.6  17.6    0.377   9.8  12.4   0.794   5.4  18.4  23.9   \n",
       "2  47.6   0.486   6.5  16.9    0.384   8.4  10.8   0.774   5.9  17.9  23.9   \n",
       "3  49.5   0.455   7.5  17.5    0.429  12.5  13.5   0.926   7.5  16.0  23.5   \n",
       "4  44.3   0.477   5.9  16.1    0.367   8.3  10.2   0.812   5.0  16.8  21.7   \n",
       "\n",
       "    ast  tov  stl  blk  blka    pf   pfd   pts  plus_minus  gp_rank  w_rank  \\\n",
       "0  15.1  7.1  3.8  2.8   2.7  10.8  11.9  66.8         1.5        3       3   \n",
       "1  14.0  7.2  3.7  2.5   2.7  10.9  12.0  64.3        -0.5       24      25   \n",
       "2  13.3  6.2  3.7  2.3   2.6   9.8  10.1  61.1         1.1        2       1   \n",
       "3  11.5  2.5  4.0  2.5   4.5   9.5  11.0  65.0         5.0      135     122   \n",
       "4  12.1  5.8  3.6  2.0   2.4   8.6   9.8  56.4         0.6       14      17   \n",
       "\n",
       "   l_rank  w_pct_rank  min_rank  fgm_rank  fga_rank  fg_pct_rank  fg3m_rank  \\\n",
       "0     199          75         1         1         2           68          4   \n",
       "1     178         102         2         2         5           65          5   \n",
       "2     199          74         5         3         7           66          6   \n",
       "3      30          75         6         5         4           97          2   \n",
       "4     190          75         8         8         9           74         12   \n",
       "\n",
       "   fg3a_rank  fg3_pct_rank  ftm_rank  fta_rank  ft_pct_rank  oreb_rank  \\\n",
       "0          2           111         7         5          123          7   \n",
       "1          4           101         6         4          116          9   \n",
       "2          6            94        12         9          131          6   \n",
       "3          5            53         2         3           29          2   \n",
       "4          8           118        13        11           99         11   \n",
       "\n",
       "   dreb_rank  reb_rank  ast_rank  tov_rank  stl_rank  blk_rank  blka_rank  \\\n",
       "0          1         2         1       201         3         3        196   \n",
       "1          3         3         2       202         5         5        195   \n",
       "2          5         4         3       199         4         8        194   \n",
       "3          9         6        11       142         1         6        202   \n",
       "4          6        10         6       194         6        13        192   \n",
       "\n",
       "   pf_rank  pfd_rank  pts_rank  plus_minus_rank  trae  \n",
       "0      200         2         1               57     1  \n",
       "1      201         1         5              121     1  \n",
       "2      199         5         6               63     1  \n",
       "3      197         3         3               13     1  \n",
       "4      193         8         8               78     1  "
      ]
     },
     "execution_count": 105,
     "metadata": {},
     "output_type": "execute_result"
    }
   ],
   "source": [
    "df2.head()"
   ]
  },
  {
   "cell_type": "code",
   "execution_count": 114,
   "id": "391806af",
   "metadata": {},
   "outputs": [
    {
     "data": {
      "text/plain": [
       "<AxesSubplot:title={'center':'Avg. poitns per game'}, ylabel='Collins-Young'>"
      ]
     },
     "execution_count": 114,
     "metadata": {},
     "output_type": "execute_result"
    },
    {
     "data": {
      "image/png": "[encoded data removed]",
      "text/plain": [
       "<Figure size 432x288 with 1 Axes>"
      ]
     },
     "metadata": {
      "needs_background": "light"
     },
     "output_type": "display_data"
    }
   ],
   "source": [
    "df2[df2.group_name.str.contains('Collins')].pts.plot(kind='barh', ylabel='Collins-Young', title='Avg. poitns per game')"
   ]
  },
  {
   "cell_type": "code",
   "execution_count": 117,
   "id": "56d74e60",
   "metadata": {},
   "outputs": [
    {
     "data": {
      "text/plain": [
       "count    19.000000\n",
       "mean     26.847368\n",
       "std      18.412658\n",
       "min       2.000000\n",
       "25%      14.050000\n",
       "50%      22.000000\n",
       "75%      39.400000\n",
       "max      66.800000\n",
       "Name: pts, dtype: float64"
      ]
     },
     "execution_count": 117,
     "metadata": {},
     "output_type": "execute_result"
    }
   ],
   "source": [
    "#could do a box and whiskers plot for this and for the above\n",
    "df[df.group_name.str.contains('Collins')].pts.describe()"
   ]
  },
  {
   "cell_type": "code",
   "execution_count": 118,
   "id": "564e47bf",
   "metadata": {},
   "outputs": [],
   "source": [
    "collins = df[df.group_name.str.contains('Collins')]"
   ]
  },
  {
   "cell_type": "code",
   "execution_count": 120,
   "id": "0e62b072",
   "metadata": {},
   "outputs": [
    {
     "name": "stderr",
     "output_type": "stream",
     "text": [
      "/var/folders/qx/nkh2pq6x3_193757ddxvrcf40000gp/T/ipykernel_65465/3481113838.py:1: FutureWarning: In a future version of pandas all arguments of DataFrame.drop except for the argument 'labels' will be keyword-only\n",
      "  collins = collins.drop(0,0)\n"
     ]
    }
   ],
   "source": [
    "collins = collins.drop(0,0)"
   ]
  },
  {
   "cell_type": "code",
   "execution_count": 128,
   "id": "65c9ef7a",
   "metadata": {},
   "outputs": [
    {
     "data": {
      "text/plain": [
       "(18, 55)"
      ]
     },
     "execution_count": 128,
     "metadata": {},
     "output_type": "execute_result"
    }
   ],
   "source": [
    "#collins = collins.reset_index()\n",
    "#collins = collins.drop('level_0',1)\n",
    "#collins = collins.drop('index', 1)\n",
    "collins.shape"
   ]
  },
  {
   "cell_type": "code",
   "execution_count": 130,
   "id": "8bc677ba",
   "metadata": {},
   "outputs": [
    {
     "data": {
      "text/plain": [
       "26.847368421052636"
      ]
     },
     "execution_count": 130,
     "metadata": {},
     "output_type": "execute_result"
    }
   ],
   "source": [
    "df[df.group_name.str.contains('Collins')].pts.mean()"
   ]
  },
  {
   "cell_type": "code",
   "execution_count": 135,
   "id": "a95ceed1",
   "metadata": {},
   "outputs": [
    {
     "data": {
      "image/png": "[encoded data removed]",
      "text/plain": [
       "<Figure size 640x480 with 1 Axes>"
      ]
     },
     "metadata": {},
     "output_type": "display_data"
    },
    {
     "data": {
      "text/plain": [
       "<ggplot: (321961930)>"
      ]
     },
     "execution_count": 135,
     "metadata": {},
     "output_type": "execute_result"
    }
   ],
   "source": [
    "from plotnine import *\n",
    "\n",
    "(\n",
    "    ggplot(collins, aes(y='pts',x=0))\n",
    "    +geom_boxplot()\n",
    "    + theme_bw()\n",
    "    + labs(\n",
    "            title = \"John Collins points spread with partners other than Trae Young\",\n",
    "            y = \"Avg. points per game\",\n",
    "            x = \"Collins\")\n",
    "\n",
    ")\n",
    "#( ggplot(mtcars,aes(y='mpg',x=0))+geom_boxplot() )\n"
   ]
  },
  {
   "cell_type": "code",
   "execution_count": 137,
   "id": "e5391c45",
   "metadata": {},
   "outputs": [
    {
     "data": {
      "image/png": "[encoded data removed]",
      "text/plain": [
       "<Figure size 640x480 with 1 Axes>"
      ]
     },
     "metadata": {},
     "output_type": "display_data"
    },
    {
     "data": {
      "text/plain": [
       "<ggplot: (322092606)>"
      ]
     },
     "execution_count": 137,
     "metadata": {},
     "output_type": "execute_result"
    }
   ],
   "source": [
    "(\n",
    "    ggplot(df2[df2.group_name.str.contains('Collins')], aes(y='pts',x=0))\n",
    "    +geom_boxplot()\n",
    "    + theme_bw()\n",
    "    + labs(\n",
    "            title = \"Collins-Young avg. points per game\",\n",
    "            y = \"Avg. points per game\",\n",
    "            )\n",
    "\n",
    ")\n",
    "\n",
    "#i dont really need the x-axis for anything "
   ]
  },
  {
   "cell_type": "markdown",
   "id": "112f3f6b",
   "metadata": {},
   "source": [
    "# Creating groups by player name \n",
    "* **Step 1:** Copy the group_name column\n",
    "* **Step 2:** Split the names in the new column, saving both into separate columns\n",
    "* **Step 3:** Drop copied version of group_name and the column with the second player's name\n",
    "\n",
    "**Result:** We now have a new column, \"player_name,\" that contains the name of the first person in each pairing"
   ]
  },
  {
   "cell_type": "code",
   "execution_count": 183,
   "id": "0ad240f4",
   "metadata": {},
   "outputs": [
    {
     "data": {
      "text/html": [
       "<div>\n",
       "<style scoped>\n",
       "    .dataframe tbody tr th:only-of-type {\n",
       "        vertical-align: middle;\n",
       "    }\n",
       "\n",
       "    .dataframe tbody tr th {\n",
       "        vertical-align: top;\n",
       "    }\n",
       "\n",
       "    .dataframe thead th {\n",
       "        text-align: right;\n",
       "    }\n",
       "</style>\n",
       "<table border=\"1\" class=\"dataframe\">\n",
       "  <thead>\n",
       "    <tr style=\"text-align: right;\">\n",
       "      <th></th>\n",
       "      <th>group_name</th>\n",
       "      <th>team_abbreviation</th>\n",
       "      <th>gp</th>\n",
       "      <th>w</th>\n",
       "      <th>l</th>\n",
       "      <th>w_pct</th>\n",
       "      <th>min</th>\n",
       "      <th>fgm</th>\n",
       "      <th>fga</th>\n",
       "      <th>fg_pct</th>\n",
       "      <th>fg3m</th>\n",
       "      <th>fg3a</th>\n",
       "      <th>fg3_pct</th>\n",
       "      <th>ftm</th>\n",
       "      <th>fta</th>\n",
       "      <th>ft_pct</th>\n",
       "      <th>oreb</th>\n",
       "      <th>dreb</th>\n",
       "      <th>reb</th>\n",
       "      <th>ast</th>\n",
       "      <th>tov</th>\n",
       "      <th>stl</th>\n",
       "      <th>blk</th>\n",
       "      <th>blka</th>\n",
       "      <th>pf</th>\n",
       "      <th>pfd</th>\n",
       "      <th>pts</th>\n",
       "      <th>plus_minus</th>\n",
       "      <th>gp_rank</th>\n",
       "      <th>w_rank</th>\n",
       "      <th>l_rank</th>\n",
       "      <th>w_pct_rank</th>\n",
       "      <th>min_rank</th>\n",
       "      <th>fgm_rank</th>\n",
       "      <th>fga_rank</th>\n",
       "      <th>fg_pct_rank</th>\n",
       "      <th>fg3m_rank</th>\n",
       "      <th>fg3a_rank</th>\n",
       "      <th>fg3_pct_rank</th>\n",
       "      <th>ftm_rank</th>\n",
       "      <th>fta_rank</th>\n",
       "      <th>ft_pct_rank</th>\n",
       "      <th>oreb_rank</th>\n",
       "      <th>dreb_rank</th>\n",
       "      <th>reb_rank</th>\n",
       "      <th>ast_rank</th>\n",
       "      <th>tov_rank</th>\n",
       "      <th>stl_rank</th>\n",
       "      <th>blk_rank</th>\n",
       "      <th>blka_rank</th>\n",
       "      <th>pf_rank</th>\n",
       "      <th>pfd_rank</th>\n",
       "      <th>pts_rank</th>\n",
       "      <th>plus_minus_rank</th>\n",
       "      <th>trae</th>\n",
       "      <th>player_name</th>\n",
       "      <th>player</th>\n",
       "    </tr>\n",
       "  </thead>\n",
       "  <tbody>\n",
       "    <tr>\n",
       "      <th>0</th>\n",
       "      <td>J. Collins - T. Young</td>\n",
       "      <td>ATL</td>\n",
       "      <td>46</td>\n",
       "      <td>23</td>\n",
       "      <td>23</td>\n",
       "      <td>0.500</td>\n",
       "      <td>27.9</td>\n",
       "      <td>25.1</td>\n",
       "      <td>51.8</td>\n",
       "      <td>0.484</td>\n",
       "      <td>7.0</td>\n",
       "      <td>18.8</td>\n",
       "      <td>0.370</td>\n",
       "      <td>9.7</td>\n",
       "      <td>12.4</td>\n",
       "      <td>0.784</td>\n",
       "      <td>5.8</td>\n",
       "      <td>20.0</td>\n",
       "      <td>25.8</td>\n",
       "      <td>15.1</td>\n",
       "      <td>7.1</td>\n",
       "      <td>3.8</td>\n",
       "      <td>2.8</td>\n",
       "      <td>2.7</td>\n",
       "      <td>10.8</td>\n",
       "      <td>11.9</td>\n",
       "      <td>66.8</td>\n",
       "      <td>1.5</td>\n",
       "      <td>3</td>\n",
       "      <td>3</td>\n",
       "      <td>199</td>\n",
       "      <td>75</td>\n",
       "      <td>1</td>\n",
       "      <td>1</td>\n",
       "      <td>2</td>\n",
       "      <td>68</td>\n",
       "      <td>4</td>\n",
       "      <td>2</td>\n",
       "      <td>111</td>\n",
       "      <td>7</td>\n",
       "      <td>5</td>\n",
       "      <td>123</td>\n",
       "      <td>7</td>\n",
       "      <td>1</td>\n",
       "      <td>2</td>\n",
       "      <td>1</td>\n",
       "      <td>201</td>\n",
       "      <td>3</td>\n",
       "      <td>3</td>\n",
       "      <td>196</td>\n",
       "      <td>200</td>\n",
       "      <td>2</td>\n",
       "      <td>1</td>\n",
       "      <td>57</td>\n",
       "      <td>1</td>\n",
       "      <td>J. Collins</td>\n",
       "      <td>True</td>\n",
       "    </tr>\n",
       "    <tr>\n",
       "      <th>1</th>\n",
       "      <td>T. Young - D. Hunter</td>\n",
       "      <td>ATL</td>\n",
       "      <td>29</td>\n",
       "      <td>14</td>\n",
       "      <td>15</td>\n",
       "      <td>0.483</td>\n",
       "      <td>26.9</td>\n",
       "      <td>23.9</td>\n",
       "      <td>49.2</td>\n",
       "      <td>0.486</td>\n",
       "      <td>6.6</td>\n",
       "      <td>17.6</td>\n",
       "      <td>0.377</td>\n",
       "      <td>9.8</td>\n",
       "      <td>12.4</td>\n",
       "      <td>0.794</td>\n",
       "      <td>5.4</td>\n",
       "      <td>18.4</td>\n",
       "      <td>23.9</td>\n",
       "      <td>14.0</td>\n",
       "      <td>7.2</td>\n",
       "      <td>3.7</td>\n",
       "      <td>2.5</td>\n",
       "      <td>2.7</td>\n",
       "      <td>10.9</td>\n",
       "      <td>12.0</td>\n",
       "      <td>64.3</td>\n",
       "      <td>-0.5</td>\n",
       "      <td>24</td>\n",
       "      <td>25</td>\n",
       "      <td>178</td>\n",
       "      <td>102</td>\n",
       "      <td>2</td>\n",
       "      <td>2</td>\n",
       "      <td>5</td>\n",
       "      <td>65</td>\n",
       "      <td>5</td>\n",
       "      <td>4</td>\n",
       "      <td>101</td>\n",
       "      <td>6</td>\n",
       "      <td>4</td>\n",
       "      <td>116</td>\n",
       "      <td>9</td>\n",
       "      <td>3</td>\n",
       "      <td>3</td>\n",
       "      <td>2</td>\n",
       "      <td>202</td>\n",
       "      <td>5</td>\n",
       "      <td>5</td>\n",
       "      <td>195</td>\n",
       "      <td>201</td>\n",
       "      <td>1</td>\n",
       "      <td>5</td>\n",
       "      <td>121</td>\n",
       "      <td>1</td>\n",
       "      <td>T. Young</td>\n",
       "      <td>False</td>\n",
       "    </tr>\n",
       "    <tr>\n",
       "      <th>2</th>\n",
       "      <td>L. Williams - W. Iwundu</td>\n",
       "      <td>ATL</td>\n",
       "      <td>1</td>\n",
       "      <td>1</td>\n",
       "      <td>0</td>\n",
       "      <td>1.000</td>\n",
       "      <td>26.5</td>\n",
       "      <td>22.0</td>\n",
       "      <td>53.0</td>\n",
       "      <td>0.415</td>\n",
       "      <td>7.0</td>\n",
       "      <td>20.0</td>\n",
       "      <td>0.350</td>\n",
       "      <td>15.0</td>\n",
       "      <td>17.0</td>\n",
       "      <td>0.882</td>\n",
       "      <td>8.0</td>\n",
       "      <td>15.0</td>\n",
       "      <td>23.0</td>\n",
       "      <td>9.0</td>\n",
       "      <td>1.0</td>\n",
       "      <td>2.0</td>\n",
       "      <td>3.0</td>\n",
       "      <td>5.0</td>\n",
       "      <td>13.0</td>\n",
       "      <td>10.0</td>\n",
       "      <td>66.0</td>\n",
       "      <td>1.0</td>\n",
       "      <td>165</td>\n",
       "      <td>122</td>\n",
       "      <td>1</td>\n",
       "      <td>1</td>\n",
       "      <td>3</td>\n",
       "      <td>6</td>\n",
       "      <td>1</td>\n",
       "      <td>141</td>\n",
       "      <td>3</td>\n",
       "      <td>1</td>\n",
       "      <td>138</td>\n",
       "      <td>1</td>\n",
       "      <td>1</td>\n",
       "      <td>47</td>\n",
       "      <td>1</td>\n",
       "      <td>16</td>\n",
       "      <td>7</td>\n",
       "      <td>21</td>\n",
       "      <td>33</td>\n",
       "      <td>29</td>\n",
       "      <td>1</td>\n",
       "      <td>204</td>\n",
       "      <td>203</td>\n",
       "      <td>7</td>\n",
       "      <td>2</td>\n",
       "      <td>64</td>\n",
       "      <td>0</td>\n",
       "      <td>L. Williams</td>\n",
       "      <td>False</td>\n",
       "    </tr>\n",
       "    <tr>\n",
       "      <th>3</th>\n",
       "      <td>C. Capela - T. Young</td>\n",
       "      <td>ATL</td>\n",
       "      <td>47</td>\n",
       "      <td>24</td>\n",
       "      <td>23</td>\n",
       "      <td>0.511</td>\n",
       "      <td>24.9</td>\n",
       "      <td>23.1</td>\n",
       "      <td>47.6</td>\n",
       "      <td>0.486</td>\n",
       "      <td>6.5</td>\n",
       "      <td>16.9</td>\n",
       "      <td>0.384</td>\n",
       "      <td>8.4</td>\n",
       "      <td>10.8</td>\n",
       "      <td>0.774</td>\n",
       "      <td>5.9</td>\n",
       "      <td>17.9</td>\n",
       "      <td>23.9</td>\n",
       "      <td>13.3</td>\n",
       "      <td>6.2</td>\n",
       "      <td>3.7</td>\n",
       "      <td>2.3</td>\n",
       "      <td>2.6</td>\n",
       "      <td>9.8</td>\n",
       "      <td>10.1</td>\n",
       "      <td>61.1</td>\n",
       "      <td>1.1</td>\n",
       "      <td>2</td>\n",
       "      <td>1</td>\n",
       "      <td>199</td>\n",
       "      <td>74</td>\n",
       "      <td>5</td>\n",
       "      <td>3</td>\n",
       "      <td>7</td>\n",
       "      <td>66</td>\n",
       "      <td>6</td>\n",
       "      <td>6</td>\n",
       "      <td>94</td>\n",
       "      <td>12</td>\n",
       "      <td>9</td>\n",
       "      <td>131</td>\n",
       "      <td>6</td>\n",
       "      <td>5</td>\n",
       "      <td>4</td>\n",
       "      <td>3</td>\n",
       "      <td>199</td>\n",
       "      <td>4</td>\n",
       "      <td>8</td>\n",
       "      <td>194</td>\n",
       "      <td>199</td>\n",
       "      <td>5</td>\n",
       "      <td>6</td>\n",
       "      <td>63</td>\n",
       "      <td>1</td>\n",
       "      <td>C. Capela</td>\n",
       "      <td>False</td>\n",
       "    </tr>\n",
       "    <tr>\n",
       "      <th>4</th>\n",
       "      <td>C. Capela - W. Iwundu</td>\n",
       "      <td>ATL</td>\n",
       "      <td>2</td>\n",
       "      <td>1</td>\n",
       "      <td>1</td>\n",
       "      <td>0.500</td>\n",
       "      <td>24.9</td>\n",
       "      <td>23.0</td>\n",
       "      <td>50.5</td>\n",
       "      <td>0.455</td>\n",
       "      <td>8.0</td>\n",
       "      <td>18.5</td>\n",
       "      <td>0.432</td>\n",
       "      <td>11.0</td>\n",
       "      <td>12.0</td>\n",
       "      <td>0.917</td>\n",
       "      <td>7.5</td>\n",
       "      <td>15.5</td>\n",
       "      <td>23.0</td>\n",
       "      <td>12.0</td>\n",
       "      <td>2.0</td>\n",
       "      <td>4.0</td>\n",
       "      <td>2.0</td>\n",
       "      <td>4.5</td>\n",
       "      <td>9.0</td>\n",
       "      <td>10.5</td>\n",
       "      <td>65.0</td>\n",
       "      <td>4.5</td>\n",
       "      <td>135</td>\n",
       "      <td>122</td>\n",
       "      <td>30</td>\n",
       "      <td>75</td>\n",
       "      <td>4</td>\n",
       "      <td>4</td>\n",
       "      <td>3</td>\n",
       "      <td>92</td>\n",
       "      <td>1</td>\n",
       "      <td>3</td>\n",
       "      <td>51</td>\n",
       "      <td>4</td>\n",
       "      <td>6</td>\n",
       "      <td>31</td>\n",
       "      <td>2</td>\n",
       "      <td>14</td>\n",
       "      <td>7</td>\n",
       "      <td>7</td>\n",
       "      <td>103</td>\n",
       "      <td>1</td>\n",
       "      <td>13</td>\n",
       "      <td>202</td>\n",
       "      <td>195</td>\n",
       "      <td>4</td>\n",
       "      <td>3</td>\n",
       "      <td>18</td>\n",
       "      <td>0</td>\n",
       "      <td>C. Capela</td>\n",
       "      <td>False</td>\n",
       "    </tr>\n",
       "  </tbody>\n",
       "</table>\n",
       "</div>"
      ],
      "text/plain": [
       "                group_name team_abbreviation  gp   w   l  w_pct   min   fgm  \\\n",
       "0    J. Collins - T. Young               ATL  46  23  23  0.500  27.9  25.1   \n",
       "1     T. Young - D. Hunter               ATL  29  14  15  0.483  26.9  23.9   \n",
       "2  L. Williams - W. Iwundu               ATL   1   1   0  1.000  26.5  22.0   \n",
       "3     C. Capela - T. Young               ATL  47  24  23  0.511  24.9  23.1   \n",
       "4    C. Capela - W. Iwundu               ATL   2   1   1  0.500  24.9  23.0   \n",
       "\n",
       "    fga  fg_pct  fg3m  fg3a  fg3_pct   ftm   fta  ft_pct  oreb  dreb   reb  \\\n",
       "0  51.8   0.484   7.0  18.8    0.370   9.7  12.4   0.784   5.8  20.0  25.8   \n",
       "1  49.2   0.486   6.6  17.6    0.377   9.8  12.4   0.794   5.4  18.4  23.9   \n",
       "2  53.0   0.415   7.0  20.0    0.350  15.0  17.0   0.882   8.0  15.0  23.0   \n",
       "3  47.6   0.486   6.5  16.9    0.384   8.4  10.8   0.774   5.9  17.9  23.9   \n",
       "4  50.5   0.455   8.0  18.5    0.432  11.0  12.0   0.917   7.5  15.5  23.0   \n",
       "\n",
       "    ast  tov  stl  blk  blka    pf   pfd   pts  plus_minus  gp_rank  w_rank  \\\n",
       "0  15.1  7.1  3.8  2.8   2.7  10.8  11.9  66.8         1.5        3       3   \n",
       "1  14.0  7.2  3.7  2.5   2.7  10.9  12.0  64.3        -0.5       24      25   \n",
       "2   9.0  1.0  2.0  3.0   5.0  13.0  10.0  66.0         1.0      165     122   \n",
       "3  13.3  6.2  3.7  2.3   2.6   9.8  10.1  61.1         1.1        2       1   \n",
       "4  12.0  2.0  4.0  2.0   4.5   9.0  10.5  65.0         4.5      135     122   \n",
       "\n",
       "   l_rank  w_pct_rank  min_rank  fgm_rank  fga_rank  fg_pct_rank  fg3m_rank  \\\n",
       "0     199          75         1         1         2           68          4   \n",
       "1     178         102         2         2         5           65          5   \n",
       "2       1           1         3         6         1          141          3   \n",
       "3     199          74         5         3         7           66          6   \n",
       "4      30          75         4         4         3           92          1   \n",
       "\n",
       "   fg3a_rank  fg3_pct_rank  ftm_rank  fta_rank  ft_pct_rank  oreb_rank  \\\n",
       "0          2           111         7         5          123          7   \n",
       "1          4           101         6         4          116          9   \n",
       "2          1           138         1         1           47          1   \n",
       "3          6            94        12         9          131          6   \n",
       "4          3            51         4         6           31          2   \n",
       "\n",
       "   dreb_rank  reb_rank  ast_rank  tov_rank  stl_rank  blk_rank  blka_rank  \\\n",
       "0          1         2         1       201         3         3        196   \n",
       "1          3         3         2       202         5         5        195   \n",
       "2         16         7        21        33        29         1        204   \n",
       "3          5         4         3       199         4         8        194   \n",
       "4         14         7         7       103         1        13        202   \n",
       "\n",
       "   pf_rank  pfd_rank  pts_rank  plus_minus_rank  trae  player_name  player  \n",
       "0      200         2         1               57     1   J. Collins    True  \n",
       "1      201         1         5              121     1     T. Young   False  \n",
       "2      203         7         2               64     0  L. Williams   False  \n",
       "3      199         5         6               63     1    C. Capela   False  \n",
       "4      195         4         3               18     0    C. Capela   False  "
      ]
     },
     "execution_count": 183,
     "metadata": {},
     "output_type": "execute_result"
    }
   ],
   "source": [
    "# df.head(20)\n",
    "# #df = df.assign(player_name = lambda x: (x['group_name'] /500 * 100))\n",
    "# #df['trae'] = (df.group_name.str.contains('T. Young', na=False) == True) \n",
    "# df['player'] = (df.group_name.str.contains('J. Collins', na=False) == True)\n",
    "# # df.player.value_counts()\n",
    "# df['player'] = df['player'].replace({'False':'', \"True\":\"J. Collins\"}, inplace=True)\n",
    "# df.head()\n"
   ]
  },
  {
   "cell_type": "code",
   "execution_count": 192,
   "id": "67da2713",
   "metadata": {},
   "outputs": [],
   "source": [
    "df['player'] = df['group_name']\n",
    "# df.head()"
   ]
  },
  {
   "cell_type": "code",
   "execution_count": 194,
   "id": "54daf595",
   "metadata": {},
   "outputs": [
    {
     "name": "stderr",
     "output_type": "stream",
     "text": [
      "/var/folders/qx/nkh2pq6x3_193757ddxvrcf40000gp/T/ipykernel_65465/2187364517.py:4: FutureWarning: In a future version of pandas all arguments of DataFrame.drop except for the argument 'labels' will be keyword-only\n"
     ]
    }
   ],
   "source": [
    "df[['player1', 'player2']] = df['player'].str.split(' - ', expand=True)\n",
    "#dup data frame and swap columns \n",
    "df.head(20)\n",
    "df = df.drop('player',1)"
   ]
  },
  {
   "cell_type": "code",
   "execution_count": 198,
   "id": "1aed73ad",
   "metadata": {},
   "outputs": [],
   "source": [
    "#this copies each pairing so that we don't miss anyone \n",
    "\n",
    "df.head(20)\n",
    "\n",
    "pd.set_option('display.max_rows', 300)\n",
    "\n",
    "copied = df.copy()\n",
    "temp = copied.player2.copy()\n",
    "copied.player2 = copied.player1\n",
    "copied.player1 = temp\n",
    "combined = pd.concat([df, copied], ignore_index=True)\n",
    "\n"
   ]
  },
  {
   "cell_type": "code",
   "execution_count": 200,
   "id": "874216e5",
   "metadata": {},
   "outputs": [],
   "source": [
    "df = combined"
   ]
  },
  {
   "cell_type": "code",
   "execution_count": 331,
   "id": "ac1f89f9",
   "metadata": {},
   "outputs": [
    {
     "ename": "NameError",
     "evalue": "name 'coord_filp' is not defined",
     "output_type": "error",
     "traceback": [
      "\u001b[0;31m---------------------------------------------------------------------------\u001b[0m",
      "\u001b[0;31mNameError\u001b[0m                                 Traceback (most recent call last)",
      "\u001b[0;32m/var/folders/qx/nkh2pq6x3_193757ddxvrcf40000gp/T/ipykernel_65465/909113287.py\u001b[0m in \u001b[0;36m<module>\u001b[0;34m\u001b[0m\n\u001b[1;32m      3\u001b[0m     \u001b[0;34m+\u001b[0m\u001b[0mgeom_boxplot\u001b[0m\u001b[0;34m(\u001b[0m\u001b[0;34m)\u001b[0m\u001b[0;34m\u001b[0m\u001b[0;34m\u001b[0m\u001b[0m\n\u001b[1;32m      4\u001b[0m     \u001b[0;34m+\u001b[0m \u001b[0mtheme_bw\u001b[0m\u001b[0;34m(\u001b[0m\u001b[0;34m)\u001b[0m\u001b[0;34m\u001b[0m\u001b[0;34m\u001b[0m\u001b[0m\n\u001b[0;32m----> 5\u001b[0;31m     \u001b[0;34m+\u001b[0m\u001b[0mcoord_filp\u001b[0m\u001b[0;34m(\u001b[0m\u001b[0;34m)\u001b[0m\u001b[0;34m\u001b[0m\u001b[0;34m\u001b[0m\u001b[0m\n\u001b[0m\u001b[1;32m      6\u001b[0m     + labs(\n\u001b[1;32m      7\u001b[0m             title = \"Avg. pts per game within partnerships\",)\n",
      "\u001b[0;31mNameError\u001b[0m: name 'coord_filp' is not defined"
     ]
    }
   ],
   "source": [
    "(\n",
    "    ggplot(df, aes(x='player1', y='pts'))\n",
    "    +geom_boxplot()\n",
    "    + theme_bw()\n",
    "    + coord_filp()\n",
    "    + labs(\n",
    "            title = \"Avg. pts per game within partnerships\",)\n",
    "\n",
    ")"
   ]
  },
  {
   "cell_type": "code",
   "execution_count": 209,
   "id": "8fdc8aaa",
   "metadata": {},
   "outputs": [
    {
     "data": {
      "image/png": "[encoded data removed]",
      "text/plain": [
       "<Figure size 640x480 with 1 Axes>"
      ]
     },
     "metadata": {},
     "output_type": "display_data"
    },
    {
     "data": {
      "text/plain": [
       "<ggplot: (322756915)>"
      ]
     },
     "execution_count": 209,
     "metadata": {},
     "output_type": "execute_result"
    }
   ],
   "source": [
    "(\n",
    "    ggplot(df, aes(x='player1', y='pts'))\n",
    "    +geom_pointrange(aes(ymin=0, ymax=100))\n",
    "    + theme_bw()\n",
    "    + labs(\n",
    "            title = \"Avg. pts per game within partnerships\",)\n",
    "\n",
    ")"
   ]
  },
  {
   "cell_type": "code",
   "execution_count": 211,
   "id": "48b92fea",
   "metadata": {},
   "outputs": [
    {
     "data": {
      "image/png": "[encoded data removed]",
      "text/plain": [
       "<Figure size 640x480 with 1 Axes>"
      ]
     },
     "metadata": {},
     "output_type": "display_data"
    },
    {
     "data": {
      "text/plain": [
       "<ggplot: (322706402)>"
      ]
     },
     "execution_count": 211,
     "metadata": {},
     "output_type": "execute_result"
    }
   ],
   "source": [
    "(\n",
    "    ggplot(df, aes(x='player1', y='pts'))\n",
    "    +geom_violin()\n",
    "    + theme_bw()\n",
    "    + labs(\n",
    "            title = \"Avg. pts per game within partnerships\",)\n",
    "\n",
    ")"
   ]
  },
  {
   "cell_type": "markdown",
   "id": "7d466b1f",
   "metadata": {},
   "source": [
    "# Making a new df with players who get the most playing time on the Hawks\n",
    "\n",
    "Players in order of playing time, according to [ESPN](https://www.espn.com/nba/team/stats/_/name/atl/table/game/sort/avgMinutes/dir/desc): \n",
    "1. Trae Young PG\n",
    "2. John Collins PF\n",
    "3. De'Andre Hunter SF\n",
    "4. Kevin Huerter SG\n",
    "5. Bogdan Bogdanovic SG\n",
    "6. Clint Capela C\n",
    "- ~~7. Chaundee Brown Jr.~~ *Brown signed a 10-day contract with the Hawks in Dec. 2021. He now plays for the South Bay Lakers.*\n",
    "- ~~8. Wes Iwundu~~ *Iwundu signed a 10-day contract with the Hawks in Dec. 2021. He now plays for the Cleveland Charge.*\n",
    "- ~~9. Cam Reddish~~ *Reddish was traded to the New York Knicks on Jan. 13, 2022 😢*\n",
    "7. Danilo Gallinari PF\n",
    "- ~~8. Cameron Oliver~~ *Oliver signed a 10-day contract with the Hawks in 2021. He now plays for the South Bay Lakers.*\n",
    "8. Onyeka Okongwu PF"
   ]
  },
  {
   "cell_type": "code",
   "execution_count": 228,
   "id": "5aa57879",
   "metadata": {},
   "outputs": [],
   "source": [
    "top_players = df[(df.player1.str.contains('Young'))\\\n",
    "   |(df.player1.str.contains('Collins'))\\\n",
    "   |(df.player1.str.contains('Hunter'))\\\n",
    "   |(df.player1.str.contains('Huerter'))\\\n",
    "   |(df.player1.str.contains('Bogdanovic'))\\\n",
    "   |(df.player1.str.contains('Capela'))\\\n",
    "   |(df.player1.str.contains('Gallinari'))\\\n",
    "   |(df.player1.str.contains('Okongwu'))]"
   ]
  },
  {
   "cell_type": "code",
   "execution_count": 230,
   "id": "7244b31c",
   "metadata": {},
   "outputs": [
    {
     "data": {
      "image/png": "[encoded data removed]",
      "text/plain": [
       "<Figure size 640x480 with 1 Axes>"
      ]
     },
     "metadata": {},
     "output_type": "display_data"
    },
    {
     "data": {
      "text/plain": [
       "<ggplot: (322775368)>"
      ]
     },
     "execution_count": 230,
     "metadata": {},
     "output_type": "execute_result"
    }
   ],
   "source": [
    "(\n",
    "    ggplot(top_players, aes(x='player1', y='pts'))\n",
    "    +geom_boxplot()\n",
    "    + theme_bw()\n",
    "    + labs(\n",
    "            title = \"Avg. pts per game within partnerships\",)\n",
    "\n",
    ")"
   ]
  },
  {
   "cell_type": "code",
   "execution_count": 231,
   "id": "07fc1bea",
   "metadata": {},
   "outputs": [
    {
     "data": {
      "image/png": "[encoded data removed]",
      "text/plain": [
       "<Figure size 640x480 with 1 Axes>"
      ]
     },
     "metadata": {},
     "output_type": "display_data"
    },
    {
     "data": {
      "text/plain": [
       "<ggplot: (322865843)>"
      ]
     },
     "execution_count": 231,
     "metadata": {},
     "output_type": "execute_result"
    }
   ],
   "source": [
    "(\n",
    "    ggplot(top_players, aes(x='player1', y='pts'))\n",
    "    +geom_pointrange(aes(ymin=0, ymax=100))\n",
    "    + theme_bw()\n",
    "    + labs(\n",
    "            title = \"Avg. pts per game within partnerships\",)\n",
    "\n",
    ")"
   ]
  },
  {
   "cell_type": "code",
   "execution_count": 303,
   "id": "724dcad0",
   "metadata": {},
   "outputs": [
    {
     "data": {
      "image/png": "[encoded data removed]",
      "text/plain": [
       "<Figure size 640x480 with 1 Axes>"
      ]
     },
     "metadata": {},
     "output_type": "display_data"
    },
    {
     "data": {
      "text/plain": [
       "<ggplot: (325060446)>"
      ]
     },
     "execution_count": 303,
     "metadata": {},
     "output_type": "execute_result"
    }
   ],
   "source": [
    "(\n",
    "    ggplot(top_players, aes(x='player1', y='pts'))\n",
    "    +geom_violin()\n",
    "    + theme_bw()\n",
    "    + coord_flip()\n",
    "    + labs(\n",
    "            title = \"Avg. pts per game within partnerships\",)\n",
    "\n",
    ")"
   ]
  },
  {
   "cell_type": "code",
   "execution_count": 302,
   "id": "f9e6b792",
   "metadata": {},
   "outputs": [
    {
     "data": {
      "image/png": "[encoded data removed]",
      "text/plain": [
       "<Figure size 640x480 with 1 Axes>"
      ]
     },
     "metadata": {},
     "output_type": "display_data"
    },
    {
     "data": {
      "text/plain": [
       "<ggplot: (324939885)>"
      ]
     },
     "execution_count": 302,
     "metadata": {},
     "output_type": "execute_result"
    }
   ],
   "source": [
    "#KEEP!!! \n",
    "# next steps: \n",
    "# showing dots where trae and each respective player come out to\n",
    "(\n",
    "    ggplot(top_players, aes(x='player1', y='ast'))\n",
    "    + coord_flip()\n",
    "    +geom_boxplot(position = position_dodge2(padding = .9), width = 0.5)\n",
    "    + theme_bw()\n",
    "    + stat_summary(geom='point', fun_y=np.max, color='red')\n",
    "    + labs(\n",
    "            title = \"Young has the highest assists per game within all possible pairs\",\n",
    "            subtitle = \"Average assists per game between each player and one other player on the Hawks\",\n",
    "            y = 'Assists',\n",
    "            x = '')\n",
    "\n",
    ")\n",
    "\n",
    "#QUESTIONS: \n",
    "    #need to make another df with trae-pairings in order to add selective annotations and selective points \n",
    "    # how can I make just trae's box a different color than th rest?"
   ]
  },
  {
   "cell_type": "code",
   "execution_count": 300,
   "id": "fce189d9",
   "metadata": {},
   "outputs": [
    {
     "data": {
      "image/png": "[encoded data removed]",
      "text/plain": [
       "<Figure size 640x480 with 1 Axes>"
      ]
     },
     "metadata": {},
     "output_type": "display_data"
    },
    {
     "data": {
      "text/plain": [
       "<ggplot: (325005117)>"
      ]
     },
     "execution_count": 300,
     "metadata": {},
     "output_type": "execute_result"
    }
   ],
   "source": [
    "import numpy as np\n",
    "\n",
    "(\n",
    "    ggplot(top_players)\n",
    "    + aes(x='reorder(player1, ast)', y='ast')\n",
    "    + geom_bar(stat='summary', fun_y=np.mean, position = position_dodge(width = 1), width = 0.7)\n",
    "    + coord_flip()\n",
    "    + theme_bw()\n",
    " #   + stat_summary(aes(label=after_stat('round(y)')))\n",
    "    + labs(\n",
    "            title = \"Young has the highest assists per game within all possible pairs\",\n",
    "            subtitle = \"Average assists per game between each player and one other player on the Hawks\",\n",
    "            y = 'Assists',\n",
    "            x = '')\n",
    ")\n"
   ]
  },
  {
   "cell_type": "code",
   "execution_count": 319,
   "id": "cef22be1",
   "metadata": {},
   "outputs": [
    {
     "data": {
      "text/html": [
       "<div>\n",
       "<style scoped>\n",
       "    .dataframe tbody tr th:only-of-type {\n",
       "        vertical-align: middle;\n",
       "    }\n",
       "\n",
       "    .dataframe tbody tr th {\n",
       "        vertical-align: top;\n",
       "    }\n",
       "\n",
       "    .dataframe thead th {\n",
       "        text-align: right;\n",
       "    }\n",
       "</style>\n",
       "<table border=\"1\" class=\"dataframe\">\n",
       "  <thead>\n",
       "    <tr style=\"text-align: right;\">\n",
       "      <th></th>\n",
       "      <th>player1</th>\n",
       "      <th>variable</th>\n",
       "      <th>value</th>\n",
       "    </tr>\n",
       "  </thead>\n",
       "  <tbody>\n",
       "    <tr>\n",
       "      <th>0</th>\n",
       "      <td>J. Collins</td>\n",
       "      <td>pts</td>\n",
       "      <td>66.8</td>\n",
       "    </tr>\n",
       "    <tr>\n",
       "      <th>1</th>\n",
       "      <td>T. Young</td>\n",
       "      <td>pts</td>\n",
       "      <td>64.3</td>\n",
       "    </tr>\n",
       "    <tr>\n",
       "      <th>2</th>\n",
       "      <td>C. Capela</td>\n",
       "      <td>pts</td>\n",
       "      <td>61.1</td>\n",
       "    </tr>\n",
       "    <tr>\n",
       "      <th>3</th>\n",
       "      <td>C. Capela</td>\n",
       "      <td>pts</td>\n",
       "      <td>65.0</td>\n",
       "    </tr>\n",
       "    <tr>\n",
       "      <th>4</th>\n",
       "      <td>B. Bogdanovic</td>\n",
       "      <td>pts</td>\n",
       "      <td>53.0</td>\n",
       "    </tr>\n",
       "  </tbody>\n",
       "</table>\n",
       "</div>"
      ],
      "text/plain": [
       "         player1 variable  value\n",
       "0     J. Collins      pts   66.8\n",
       "1       T. Young      pts   64.3\n",
       "2      C. Capela      pts   61.1\n",
       "3      C. Capela      pts   65.0\n",
       "4  B. Bogdanovic      pts   53.0"
      ]
     },
     "execution_count": 319,
     "metadata": {},
     "output_type": "execute_result"
    }
   ],
   "source": [
    "#top_players\n",
    "# Name is id_vars and Course is value_vars\n",
    "#pd.melt(df, id_vars =['Name'], value_vars =['Course'])\n",
    "melted = pd.melt(new, id_vars=['player1'], value_vars=['pts', 'ast', 'reb'])\n",
    "melted.head()\n"
   ]
  },
  {
   "cell_type": "code",
   "execution_count": 330,
   "id": "87f8644a",
   "metadata": {},
   "outputs": [
    {
     "data": {
      "image/png": "[encoded data removed]",
      "text/plain": [
       "<Figure size 640x480 with 1 Axes>"
      ]
     },
     "metadata": {},
     "output_type": "display_data"
    },
    {
     "data": {
      "text/plain": [
       "<ggplot: (325456939)>"
      ]
     },
     "execution_count": 330,
     "metadata": {},
     "output_type": "execute_result"
    }
   ],
   "source": [
    "# Attempt at a grouped bar graph\n",
    "(\n",
    "    ggplot(melted)\n",
    "    + aes(x='player1', y='value', fill='variable')\n",
    "    + geom_bar(stat='summary', fun_y=np.mean, position='dodge')\n",
    "    + coord_flip()\n",
    "    + theme_538()\n",
    "    + stat_summary(\n",
    "        aes(label=after_stat('round(y, 1)')),\n",
    "        geom='text',\n",
    "        fun_y=np.mean,\n",
    "        #nudge_x=0.075,\n",
    "        size=10,\n",
    "        ha='left')\n",
    "    + labs(\n",
    "            title = \"Trae Young pairings outperform outperform all others\",\n",
    "            subtitle = \"Average performance among player pairs\",\n",
    "            y = '',\n",
    "            x = '')\n",
    ")\n",
    "\n",
    "#+ scale_fill_manual(values=['#E03A3E', 'gray'])\n",
    "\n",
    "#QUESTIONS:\n",
    "    # remove numbers from x axis\n",
    "    #fade out other colors if possible \n",
    "    #add numbers to the end of trae's bars \n",
    "    # need to make another df with trae's aggregates in order to do selective annotaions \n",
    "    #would probably be helpful to do this exact same thing but with individual performance to compare \n",
    "        # --> or stacked bar chart instead"
   ]
  },
  {
   "cell_type": "markdown",
   "id": "d25bd768",
   "metadata": {},
   "source": [
    "**^This is** not that shocking bc Trae is the highest performer on the team. However he doesn't rank first in each of these categories. For example, the Hawks' top rebounder is Clint Capela with 10.6 rebounds per game. \n",
    "\n",
    "So, as a next step, we need to compare: \n",
    "- pairings with Trae against pairings without Trae: Do Trae's pairings out perform every other possible combination from these players? \n",
    "- Individual statistics for each player against their stats as a pair. For example, how does JC compare alone + Trae alone, and how do they compare when playing together, and how does JC compare when playing with other people. This will answer the question: When compared against JC's average stats per game, how does he typically perform when you isolate his gameplay with Trae? How does he typically perform when you isolate his gameplay to anyone but Trae? "
   ]
  },
  {
   "cell_type": "code",
   "execution_count": null,
   "id": "2d527a55",
   "metadata": {},
   "outputs": [],
   "source": [
    "(\n",
    "    ggplot(top_players)\n",
    "    + aes(x='species', y='num_animals', fill='county')\n",
    "    + geom_bar(stat='identity', position='dodge')\n",
    ")"
   ]
  },
  {
   "cell_type": "code",
   "execution_count": 265,
   "id": "7fd015dd",
   "metadata": {},
   "outputs": [
    {
     "data": {
      "image/png": "[encoded data removed]",
      "text/plain": [
       "<Figure size 640x480 with 1 Axes>"
      ]
     },
     "metadata": {},
     "output_type": "display_data"
    },
    {
     "data": {
      "text/plain": [
       "<ggplot: (323936437)>"
      ]
     },
     "execution_count": 265,
     "metadata": {},
     "output_type": "execute_result"
    }
   ],
   "source": [
    "(\n",
    "    ggplot(top_players, aes(x='player1', y='ast'))\n",
    "    + geom_boxplot(position = position_dodge2(padding = 2), width = 0.5)\n",
    "\n",
    ")"
   ]
  },
  {
   "cell_type": "code",
   "execution_count": 239,
   "id": "fb1f47dc",
   "metadata": {},
   "outputs": [
    {
     "data": {
      "image/png": "[encoded data removed]",
      "text/plain": [
       "<Figure size 640x480 with 1 Axes>"
      ]
     },
     "metadata": {},
     "output_type": "display_data"
    },
    {
     "data": {
      "text/plain": [
       "<ggplot: (323371162)>"
      ]
     },
     "execution_count": 239,
     "metadata": {},
     "output_type": "execute_result"
    }
   ],
   "source": [
    "(\n",
    "    ggplot(top_players, aes(x='player1', y='reb'))\n",
    "    +geom_violin()\n",
    "    + theme_bw()\n",
    "    + labs(\n",
    "            title = \"Avg. rebounds per game within partnerships\",)\n",
    "\n",
    ")"
   ]
  },
  {
   "cell_type": "code",
   "execution_count": 240,
   "id": "2cd389f8",
   "metadata": {},
   "outputs": [
    {
     "data": {
      "text/html": [
       "<div>\n",
       "<style scoped>\n",
       "    .dataframe tbody tr th:only-of-type {\n",
       "        vertical-align: middle;\n",
       "    }\n",
       "\n",
       "    .dataframe tbody tr th {\n",
       "        vertical-align: top;\n",
       "    }\n",
       "\n",
       "    .dataframe thead th {\n",
       "        text-align: right;\n",
       "    }\n",
       "</style>\n",
       "<table border=\"1\" class=\"dataframe\">\n",
       "  <thead>\n",
       "    <tr style=\"text-align: right;\">\n",
       "      <th></th>\n",
       "      <th>group_name</th>\n",
       "      <th>team_abbreviation</th>\n",
       "      <th>gp</th>\n",
       "      <th>w</th>\n",
       "      <th>l</th>\n",
       "      <th>w_pct</th>\n",
       "      <th>min</th>\n",
       "      <th>fgm</th>\n",
       "      <th>fga</th>\n",
       "      <th>fg_pct</th>\n",
       "      <th>fg3m</th>\n",
       "      <th>fg3a</th>\n",
       "      <th>fg3_pct</th>\n",
       "      <th>ftm</th>\n",
       "      <th>fta</th>\n",
       "      <th>ft_pct</th>\n",
       "      <th>oreb</th>\n",
       "      <th>dreb</th>\n",
       "      <th>reb</th>\n",
       "      <th>ast</th>\n",
       "      <th>tov</th>\n",
       "      <th>stl</th>\n",
       "      <th>blk</th>\n",
       "      <th>blka</th>\n",
       "      <th>pf</th>\n",
       "      <th>pfd</th>\n",
       "      <th>pts</th>\n",
       "      <th>plus_minus</th>\n",
       "      <th>gp_rank</th>\n",
       "      <th>w_rank</th>\n",
       "      <th>l_rank</th>\n",
       "      <th>w_pct_rank</th>\n",
       "      <th>min_rank</th>\n",
       "      <th>fgm_rank</th>\n",
       "      <th>fga_rank</th>\n",
       "      <th>fg_pct_rank</th>\n",
       "      <th>fg3m_rank</th>\n",
       "      <th>fg3a_rank</th>\n",
       "      <th>fg3_pct_rank</th>\n",
       "      <th>ftm_rank</th>\n",
       "      <th>fta_rank</th>\n",
       "      <th>ft_pct_rank</th>\n",
       "      <th>oreb_rank</th>\n",
       "      <th>dreb_rank</th>\n",
       "      <th>reb_rank</th>\n",
       "      <th>ast_rank</th>\n",
       "      <th>tov_rank</th>\n",
       "      <th>stl_rank</th>\n",
       "      <th>blk_rank</th>\n",
       "      <th>blka_rank</th>\n",
       "      <th>pf_rank</th>\n",
       "      <th>pfd_rank</th>\n",
       "      <th>pts_rank</th>\n",
       "      <th>plus_minus_rank</th>\n",
       "      <th>trae</th>\n",
       "      <th>player1</th>\n",
       "      <th>player2</th>\n",
       "    </tr>\n",
       "  </thead>\n",
       "  <tbody>\n",
       "    <tr>\n",
       "      <th>0</th>\n",
       "      <td>J. Collins - T. Young</td>\n",
       "      <td>ATL</td>\n",
       "      <td>46</td>\n",
       "      <td>23</td>\n",
       "      <td>23</td>\n",
       "      <td>0.500</td>\n",
       "      <td>27.9</td>\n",
       "      <td>25.1</td>\n",
       "      <td>51.8</td>\n",
       "      <td>0.484</td>\n",
       "      <td>7.0</td>\n",
       "      <td>18.8</td>\n",
       "      <td>0.370</td>\n",
       "      <td>9.7</td>\n",
       "      <td>12.4</td>\n",
       "      <td>0.784</td>\n",
       "      <td>5.8</td>\n",
       "      <td>20.0</td>\n",
       "      <td>25.8</td>\n",
       "      <td>15.1</td>\n",
       "      <td>7.1</td>\n",
       "      <td>3.8</td>\n",
       "      <td>2.8</td>\n",
       "      <td>2.7</td>\n",
       "      <td>10.8</td>\n",
       "      <td>11.9</td>\n",
       "      <td>66.8</td>\n",
       "      <td>1.5</td>\n",
       "      <td>3</td>\n",
       "      <td>3</td>\n",
       "      <td>199</td>\n",
       "      <td>75</td>\n",
       "      <td>1</td>\n",
       "      <td>1</td>\n",
       "      <td>2</td>\n",
       "      <td>68</td>\n",
       "      <td>4</td>\n",
       "      <td>2</td>\n",
       "      <td>111</td>\n",
       "      <td>7</td>\n",
       "      <td>5</td>\n",
       "      <td>123</td>\n",
       "      <td>7</td>\n",
       "      <td>1</td>\n",
       "      <td>2</td>\n",
       "      <td>1</td>\n",
       "      <td>201</td>\n",
       "      <td>3</td>\n",
       "      <td>3</td>\n",
       "      <td>196</td>\n",
       "      <td>200</td>\n",
       "      <td>2</td>\n",
       "      <td>1</td>\n",
       "      <td>57</td>\n",
       "      <td>1</td>\n",
       "      <td>J. Collins</td>\n",
       "      <td>T. Young</td>\n",
       "    </tr>\n",
       "    <tr>\n",
       "      <th>1</th>\n",
       "      <td>T. Young - D. Hunter</td>\n",
       "      <td>ATL</td>\n",
       "      <td>29</td>\n",
       "      <td>14</td>\n",
       "      <td>15</td>\n",
       "      <td>0.483</td>\n",
       "      <td>26.9</td>\n",
       "      <td>23.9</td>\n",
       "      <td>49.2</td>\n",
       "      <td>0.486</td>\n",
       "      <td>6.6</td>\n",
       "      <td>17.6</td>\n",
       "      <td>0.377</td>\n",
       "      <td>9.8</td>\n",
       "      <td>12.4</td>\n",
       "      <td>0.794</td>\n",
       "      <td>5.4</td>\n",
       "      <td>18.4</td>\n",
       "      <td>23.9</td>\n",
       "      <td>14.0</td>\n",
       "      <td>7.2</td>\n",
       "      <td>3.7</td>\n",
       "      <td>2.5</td>\n",
       "      <td>2.7</td>\n",
       "      <td>10.9</td>\n",
       "      <td>12.0</td>\n",
       "      <td>64.3</td>\n",
       "      <td>-0.5</td>\n",
       "      <td>24</td>\n",
       "      <td>25</td>\n",
       "      <td>178</td>\n",
       "      <td>102</td>\n",
       "      <td>2</td>\n",
       "      <td>2</td>\n",
       "      <td>5</td>\n",
       "      <td>65</td>\n",
       "      <td>5</td>\n",
       "      <td>4</td>\n",
       "      <td>101</td>\n",
       "      <td>6</td>\n",
       "      <td>4</td>\n",
       "      <td>116</td>\n",
       "      <td>9</td>\n",
       "      <td>3</td>\n",
       "      <td>3</td>\n",
       "      <td>2</td>\n",
       "      <td>202</td>\n",
       "      <td>5</td>\n",
       "      <td>5</td>\n",
       "      <td>195</td>\n",
       "      <td>201</td>\n",
       "      <td>1</td>\n",
       "      <td>5</td>\n",
       "      <td>121</td>\n",
       "      <td>1</td>\n",
       "      <td>T. Young</td>\n",
       "      <td>D. Hunter</td>\n",
       "    </tr>\n",
       "    <tr>\n",
       "      <th>3</th>\n",
       "      <td>C. Capela - T. Young</td>\n",
       "      <td>ATL</td>\n",
       "      <td>47</td>\n",
       "      <td>24</td>\n",
       "      <td>23</td>\n",
       "      <td>0.511</td>\n",
       "      <td>24.9</td>\n",
       "      <td>23.1</td>\n",
       "      <td>47.6</td>\n",
       "      <td>0.486</td>\n",
       "      <td>6.5</td>\n",
       "      <td>16.9</td>\n",
       "      <td>0.384</td>\n",
       "      <td>8.4</td>\n",
       "      <td>10.8</td>\n",
       "      <td>0.774</td>\n",
       "      <td>5.9</td>\n",
       "      <td>17.9</td>\n",
       "      <td>23.9</td>\n",
       "      <td>13.3</td>\n",
       "      <td>6.2</td>\n",
       "      <td>3.7</td>\n",
       "      <td>2.3</td>\n",
       "      <td>2.6</td>\n",
       "      <td>9.8</td>\n",
       "      <td>10.1</td>\n",
       "      <td>61.1</td>\n",
       "      <td>1.1</td>\n",
       "      <td>2</td>\n",
       "      <td>1</td>\n",
       "      <td>199</td>\n",
       "      <td>74</td>\n",
       "      <td>5</td>\n",
       "      <td>3</td>\n",
       "      <td>7</td>\n",
       "      <td>66</td>\n",
       "      <td>6</td>\n",
       "      <td>6</td>\n",
       "      <td>94</td>\n",
       "      <td>12</td>\n",
       "      <td>9</td>\n",
       "      <td>131</td>\n",
       "      <td>6</td>\n",
       "      <td>5</td>\n",
       "      <td>4</td>\n",
       "      <td>3</td>\n",
       "      <td>199</td>\n",
       "      <td>4</td>\n",
       "      <td>8</td>\n",
       "      <td>194</td>\n",
       "      <td>199</td>\n",
       "      <td>5</td>\n",
       "      <td>6</td>\n",
       "      <td>63</td>\n",
       "      <td>1</td>\n",
       "      <td>C. Capela</td>\n",
       "      <td>T. Young</td>\n",
       "    </tr>\n",
       "    <tr>\n",
       "      <th>4</th>\n",
       "      <td>C. Capela - W. Iwundu</td>\n",
       "      <td>ATL</td>\n",
       "      <td>2</td>\n",
       "      <td>1</td>\n",
       "      <td>1</td>\n",
       "      <td>0.500</td>\n",
       "      <td>24.9</td>\n",
       "      <td>23.0</td>\n",
       "      <td>50.5</td>\n",
       "      <td>0.455</td>\n",
       "      <td>8.0</td>\n",
       "      <td>18.5</td>\n",
       "      <td>0.432</td>\n",
       "      <td>11.0</td>\n",
       "      <td>12.0</td>\n",
       "      <td>0.917</td>\n",
       "      <td>7.5</td>\n",
       "      <td>15.5</td>\n",
       "      <td>23.0</td>\n",
       "      <td>12.0</td>\n",
       "      <td>2.0</td>\n",
       "      <td>4.0</td>\n",
       "      <td>2.0</td>\n",
       "      <td>4.5</td>\n",
       "      <td>9.0</td>\n",
       "      <td>10.5</td>\n",
       "      <td>65.0</td>\n",
       "      <td>4.5</td>\n",
       "      <td>135</td>\n",
       "      <td>122</td>\n",
       "      <td>30</td>\n",
       "      <td>75</td>\n",
       "      <td>4</td>\n",
       "      <td>4</td>\n",
       "      <td>3</td>\n",
       "      <td>92</td>\n",
       "      <td>1</td>\n",
       "      <td>3</td>\n",
       "      <td>51</td>\n",
       "      <td>4</td>\n",
       "      <td>6</td>\n",
       "      <td>31</td>\n",
       "      <td>2</td>\n",
       "      <td>14</td>\n",
       "      <td>7</td>\n",
       "      <td>7</td>\n",
       "      <td>103</td>\n",
       "      <td>1</td>\n",
       "      <td>13</td>\n",
       "      <td>202</td>\n",
       "      <td>195</td>\n",
       "      <td>4</td>\n",
       "      <td>3</td>\n",
       "      <td>18</td>\n",
       "      <td>0</td>\n",
       "      <td>C. Capela</td>\n",
       "      <td>W. Iwundu</td>\n",
       "    </tr>\n",
       "    <tr>\n",
       "      <th>6</th>\n",
       "      <td>B. Bogdanovic - C. Brown Jr.</td>\n",
       "      <td>ATL</td>\n",
       "      <td>1</td>\n",
       "      <td>0</td>\n",
       "      <td>1</td>\n",
       "      <td>0.000</td>\n",
       "      <td>23.8</td>\n",
       "      <td>21.0</td>\n",
       "      <td>48.0</td>\n",
       "      <td>0.438</td>\n",
       "      <td>6.0</td>\n",
       "      <td>16.0</td>\n",
       "      <td>0.375</td>\n",
       "      <td>5.0</td>\n",
       "      <td>5.0</td>\n",
       "      <td>1.000</td>\n",
       "      <td>7.0</td>\n",
       "      <td>19.0</td>\n",
       "      <td>26.0</td>\n",
       "      <td>11.0</td>\n",
       "      <td>6.0</td>\n",
       "      <td>2.0</td>\n",
       "      <td>3.0</td>\n",
       "      <td>3.0</td>\n",
       "      <td>6.0</td>\n",
       "      <td>5.0</td>\n",
       "      <td>53.0</td>\n",
       "      <td>-11.0</td>\n",
       "      <td>165</td>\n",
       "      <td>170</td>\n",
       "      <td>30</td>\n",
       "      <td>170</td>\n",
       "      <td>7</td>\n",
       "      <td>9</td>\n",
       "      <td>6</td>\n",
       "      <td>117</td>\n",
       "      <td>8</td>\n",
       "      <td>9</td>\n",
       "      <td>105</td>\n",
       "      <td>45</td>\n",
       "      <td>71</td>\n",
       "      <td>1</td>\n",
       "      <td>4</td>\n",
       "      <td>2</td>\n",
       "      <td>1</td>\n",
       "      <td>12</td>\n",
       "      <td>197</td>\n",
       "      <td>29</td>\n",
       "      <td>1</td>\n",
       "      <td>197</td>\n",
       "      <td>175</td>\n",
       "      <td>51</td>\n",
       "      <td>11</td>\n",
       "      <td>203</td>\n",
       "      <td>0</td>\n",
       "      <td>B. Bogdanovic</td>\n",
       "      <td>C. Brown Jr.</td>\n",
       "    </tr>\n",
       "  </tbody>\n",
       "</table>\n",
       "</div>"
      ],
      "text/plain": [
       "                     group_name team_abbreviation  gp   w   l  w_pct   min  \\\n",
       "0         J. Collins - T. Young               ATL  46  23  23  0.500  27.9   \n",
       "1          T. Young - D. Hunter               ATL  29  14  15  0.483  26.9   \n",
       "3          C. Capela - T. Young               ATL  47  24  23  0.511  24.9   \n",
       "4         C. Capela - W. Iwundu               ATL   2   1   1  0.500  24.9   \n",
       "6  B. Bogdanovic - C. Brown Jr.               ATL   1   0   1  0.000  23.8   \n",
       "\n",
       "    fgm   fga  fg_pct  fg3m  fg3a  fg3_pct   ftm   fta  ft_pct  oreb  dreb  \\\n",
       "0  25.1  51.8   0.484   7.0  18.8    0.370   9.7  12.4   0.784   5.8  20.0   \n",
       "1  23.9  49.2   0.486   6.6  17.6    0.377   9.8  12.4   0.794   5.4  18.4   \n",
       "3  23.1  47.6   0.486   6.5  16.9    0.384   8.4  10.8   0.774   5.9  17.9   \n",
       "4  23.0  50.5   0.455   8.0  18.5    0.432  11.0  12.0   0.917   7.5  15.5   \n",
       "6  21.0  48.0   0.438   6.0  16.0    0.375   5.0   5.0   1.000   7.0  19.0   \n",
       "\n",
       "    reb   ast  tov  stl  blk  blka    pf   pfd   pts  plus_minus  gp_rank  \\\n",
       "0  25.8  15.1  7.1  3.8  2.8   2.7  10.8  11.9  66.8         1.5        3   \n",
       "1  23.9  14.0  7.2  3.7  2.5   2.7  10.9  12.0  64.3        -0.5       24   \n",
       "3  23.9  13.3  6.2  3.7  2.3   2.6   9.8  10.1  61.1         1.1        2   \n",
       "4  23.0  12.0  2.0  4.0  2.0   4.5   9.0  10.5  65.0         4.5      135   \n",
       "6  26.0  11.0  6.0  2.0  3.0   3.0   6.0   5.0  53.0       -11.0      165   \n",
       "\n",
       "   w_rank  l_rank  w_pct_rank  min_rank  fgm_rank  fga_rank  fg_pct_rank  \\\n",
       "0       3     199          75         1         1         2           68   \n",
       "1      25     178         102         2         2         5           65   \n",
       "3       1     199          74         5         3         7           66   \n",
       "4     122      30          75         4         4         3           92   \n",
       "6     170      30         170         7         9         6          117   \n",
       "\n",
       "   fg3m_rank  fg3a_rank  fg3_pct_rank  ftm_rank  fta_rank  ft_pct_rank  \\\n",
       "0          4          2           111         7         5          123   \n",
       "1          5          4           101         6         4          116   \n",
       "3          6          6            94        12         9          131   \n",
       "4          1          3            51         4         6           31   \n",
       "6          8          9           105        45        71            1   \n",
       "\n",
       "   oreb_rank  dreb_rank  reb_rank  ast_rank  tov_rank  stl_rank  blk_rank  \\\n",
       "0          7          1         2         1       201         3         3   \n",
       "1          9          3         3         2       202         5         5   \n",
       "3          6          5         4         3       199         4         8   \n",
       "4          2         14         7         7       103         1        13   \n",
       "6          4          2         1        12       197        29         1   \n",
       "\n",
       "   blka_rank  pf_rank  pfd_rank  pts_rank  plus_minus_rank  trae  \\\n",
       "0        196      200         2         1               57     1   \n",
       "1        195      201         1         5              121     1   \n",
       "3        194      199         5         6               63     1   \n",
       "4        202      195         4         3               18     0   \n",
       "6        197      175        51        11              203     0   \n",
       "\n",
       "         player1       player2  \n",
       "0     J. Collins      T. Young  \n",
       "1       T. Young     D. Hunter  \n",
       "3      C. Capela      T. Young  \n",
       "4      C. Capela     W. Iwundu  \n",
       "6  B. Bogdanovic  C. Brown Jr.  "
      ]
     },
     "execution_count": 240,
     "metadata": {},
     "output_type": "execute_result"
    }
   ],
   "source": [
    "top_players.head()"
   ]
  },
  {
   "cell_type": "code",
   "execution_count": 304,
   "id": "d60c7402",
   "metadata": {},
   "outputs": [
    {
     "data": {
      "text/html": [
       "<div>\n",
       "<style scoped>\n",
       "    .dataframe tbody tr th:only-of-type {\n",
       "        vertical-align: middle;\n",
       "    }\n",
       "\n",
       "    .dataframe tbody tr th {\n",
       "        vertical-align: top;\n",
       "    }\n",
       "\n",
       "    .dataframe thead th {\n",
       "        text-align: right;\n",
       "    }\n",
       "</style>\n",
       "<table border=\"1\" class=\"dataframe\">\n",
       "  <thead>\n",
       "    <tr style=\"text-align: right;\">\n",
       "      <th></th>\n",
       "      <th>group_name</th>\n",
       "      <th>pts</th>\n",
       "      <th>ast</th>\n",
       "      <th>reb</th>\n",
       "      <th>player1</th>\n",
       "      <th>player2</th>\n",
       "    </tr>\n",
       "  </thead>\n",
       "  <tbody>\n",
       "    <tr>\n",
       "      <th>0</th>\n",
       "      <td>J. Collins - T. Young</td>\n",
       "      <td>66.8</td>\n",
       "      <td>15.1</td>\n",
       "      <td>25.8</td>\n",
       "      <td>J. Collins</td>\n",
       "      <td>T. Young</td>\n",
       "    </tr>\n",
       "    <tr>\n",
       "      <th>1</th>\n",
       "      <td>T. Young - D. Hunter</td>\n",
       "      <td>64.3</td>\n",
       "      <td>14.0</td>\n",
       "      <td>23.9</td>\n",
       "      <td>T. Young</td>\n",
       "      <td>D. Hunter</td>\n",
       "    </tr>\n",
       "    <tr>\n",
       "      <th>3</th>\n",
       "      <td>C. Capela - T. Young</td>\n",
       "      <td>61.1</td>\n",
       "      <td>13.3</td>\n",
       "      <td>23.9</td>\n",
       "      <td>C. Capela</td>\n",
       "      <td>T. Young</td>\n",
       "    </tr>\n",
       "    <tr>\n",
       "      <th>4</th>\n",
       "      <td>C. Capela - W. Iwundu</td>\n",
       "      <td>65.0</td>\n",
       "      <td>12.0</td>\n",
       "      <td>23.0</td>\n",
       "      <td>C. Capela</td>\n",
       "      <td>W. Iwundu</td>\n",
       "    </tr>\n",
       "    <tr>\n",
       "      <th>6</th>\n",
       "      <td>B. Bogdanovic - C. Brown Jr.</td>\n",
       "      <td>53.0</td>\n",
       "      <td>11.0</td>\n",
       "      <td>26.0</td>\n",
       "      <td>B. Bogdanovic</td>\n",
       "      <td>C. Brown Jr.</td>\n",
       "    </tr>\n",
       "  </tbody>\n",
       "</table>\n",
       "</div>"
      ],
      "text/plain": [
       "                     group_name   pts   ast   reb        player1       player2\n",
       "0         J. Collins - T. Young  66.8  15.1  25.8     J. Collins      T. Young\n",
       "1          T. Young - D. Hunter  64.3  14.0  23.9       T. Young     D. Hunter\n",
       "3          C. Capela - T. Young  61.1  13.3  23.9      C. Capela      T. Young\n",
       "4         C. Capela - W. Iwundu  65.0  12.0  23.0      C. Capela     W. Iwundu\n",
       "6  B. Bogdanovic - C. Brown Jr.  53.0  11.0  26.0  B. Bogdanovic  C. Brown Jr."
      ]
     },
     "execution_count": 304,
     "metadata": {},
     "output_type": "execute_result"
    }
   ],
   "source": [
    "# Creating a simpler df to see how these visualizations might work in DataWrapper\n",
    "new = top_players[['group_name', 'pts', 'ast', 'reb', 'player1', 'player2']].copy()\n",
    "new.head()"
   ]
  },
  {
   "cell_type": "code",
   "execution_count": 245,
   "id": "23711edf",
   "metadata": {},
   "outputs": [
    {
     "data": {
      "text/plain": [
       "player1\n",
       "B. Bogdanovic    26.936364\n",
       "C. Capela        30.715000\n",
       "D. Gallinari     23.306667\n",
       "D. Hunter        22.806667\n",
       "J. Collins       26.847368\n",
       "K. Huerter       25.800000\n",
       "O. Okongwu       20.338889\n",
       "T. Young         32.531818\n",
       "Name: pts, dtype: float64"
      ]
     },
     "execution_count": 245,
     "metadata": {},
     "output_type": "execute_result"
    }
   ],
   "source": [
    "new.head()\n",
    "new.groupby(by='player1').pts.mean()"
   ]
  },
  {
   "cell_type": "code",
   "execution_count": 247,
   "id": "e043d0ac",
   "metadata": {},
   "outputs": [
    {
     "data": {
      "text/plain": [
       "player1\n",
       "B. Bogdanovic    5.636364\n",
       "C. Capela        6.475000\n",
       "D. Gallinari     4.886667\n",
       "D. Hunter        4.986667\n",
       "J. Collins       5.805263\n",
       "K. Huerter       5.794118\n",
       "O. Okongwu       4.272222\n",
       "T. Young         6.759091\n",
       "Name: ast, dtype: float64"
      ]
     },
     "execution_count": 247,
     "metadata": {},
     "output_type": "execute_result"
    }
   ],
   "source": [
    "new.groupby(by='player1').ast.mean()"
   ]
  },
  {
   "cell_type": "code",
   "execution_count": 246,
   "id": "b0e2225e",
   "metadata": {},
   "outputs": [
    {
     "data": {
      "text/plain": [
       "player1\n",
       "B. Bogdanovic    10.518182\n",
       "C. Capela        11.645000\n",
       "D. Gallinari      8.740000\n",
       "D. Hunter         8.733333\n",
       "J. Collins       11.131579\n",
       "K. Huerter       10.005882\n",
       "O. Okongwu        8.555556\n",
       "T. Young         11.913636\n",
       "Name: reb, dtype: float64"
      ]
     },
     "execution_count": 246,
     "metadata": {},
     "output_type": "execute_result"
    }
   ],
   "source": [
    "new.groupby(by='player1').reb.mean()\n",
    "#NOTE TO SELF: Come back and add each of these to their own df to then visualize with a stacked bar chart in datawrapper\n",
    "# add avg for partnerships WITH trae\n",
    "# manually add individual's pts/reb/ast per game "
   ]
  },
  {
   "cell_type": "code",
   "execution_count": 243,
   "id": "cba193a3",
   "metadata": {},
   "outputs": [],
   "source": [
    "#new.to_csv('top_hawks_2122.csv', index=False)"
   ]
  }
 ],
 "metadata": {
  "kernelspec": {
   "display_name": "Python 3 (ipykernel)",
   "language": "python",
   "name": "python3"
  },
  "language_info": {
   "codemirror_mode": {
    "name": "ipython",
    "version": 3
   },
   "file_extension": ".py",
   "mimetype": "text/x-python",
   "name": "python",
   "nbconvert_exporter": "python",
   "pygments_lexer": "ipython3",
   "version": "3.10.0"
  }
 },
 "nbformat": 4,
 "nbformat_minor": 5
}
